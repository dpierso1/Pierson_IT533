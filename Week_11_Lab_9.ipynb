{
  "nbformat": 4,
  "nbformat_minor": 0,
  "metadata": {
    "colab": {
      "provenance": [],
      "authorship_tag": "ABX9TyPFx2Ry3qJI6n6xiOuCRKTD",
      "include_colab_link": true
    },
    "kernelspec": {
      "name": "python3",
      "display_name": "Python 3"
    },
    "language_info": {
      "name": "python"
    }
  },
  "cells": [
    {
      "cell_type": "markdown",
      "metadata": {
        "id": "view-in-github",
        "colab_type": "text"
      },
      "source": [
        "<a href=\"https://colab.research.google.com/github/dpierso1/Pierson_IT533/blob/main/Week_11_Lab_9.ipynb\" target=\"_parent\"><img src=\"https://colab.research.google.com/assets/colab-badge.svg\" alt=\"Open In Colab\"/></a>"
      ]
    },
    {
      "cell_type": "code",
      "execution_count": 1,
      "metadata": {
        "colab": {
          "base_uri": "https://localhost:8080/"
        },
        "id": "4WvquGlO4uBL",
        "outputId": "c79943bf-6e1d-4bb3-e77e-9c1f8af2806e"
      },
      "outputs": [
        {
          "output_type": "stream",
          "name": "stdout",
          "text": [
            "Current TensorFlow version is 2.12.0\n"
          ]
        }
      ],
      "source": [
        "import tensorflow as tf \n",
        "\n",
        "from tensorflow import keras \n",
        "from tensorflow.keras import layers \n",
        "from tensorflow.keras.layers.experimental import preprocessing\n",
        "\n",
        "print(\"Current TensorFlow version is\", tf.__version__)\n",
        "\n",
        "import numpy as np\n",
        "import pandas as pd \n",
        "import matplotlib.pyplot as plt\n",
        "import seaborn as sns \n",
        "from sklearn.model_selection import train_test_split\n",
        "from sklearn.metrics import accuracy_score\n",
        "import warnings\n",
        "warnings.filterwarnings(\"ignore\")\n",
        "np.random.seed(42) \n",
        "\n",
        "# Read in the data as adult dataframe. \n",
        "adult = pd.read_csv(\"https://raw.githubusercontent.com/dpierso1/Pierson_IT533/main/airline_passenger_satisfaction.csv\")"
      ]
    },
    {
      "cell_type": "code",
      "source": [
        "adult.head()"
      ],
      "metadata": {
        "colab": {
          "base_uri": "https://localhost:8080/",
          "height": 334
        },
        "id": "Lp8EBIuL5MCy",
        "outputId": "7a81b24a-cd00-4d15-e28f-c9c2216c44a5"
      },
      "execution_count": 2,
      "outputs": [
        {
          "output_type": "execute_result",
          "data": {
            "text/plain": [
              "   ID  Gender  Age CustomerType TypeOfTravel     Class  FlightDistance  \\\n",
              "0   1    Male   48   First-time     Business  Business             821   \n",
              "1   2  Female   35    Returning     Business  Business             821   \n",
              "2   3    Male   41    Returning     Business  Business             853   \n",
              "3   4    Male   50    Returning     Business  Business            1905   \n",
              "4   5  Female   49    Returning     Business  Business            3470   \n",
              "\n",
              "   DepartureDelay  ArrivalDelay  EaseOfOnlineBooking  ...  On-boardService  \\\n",
              "0               2           5.0                    3  ...                3   \n",
              "1              26          39.0                    2  ...                5   \n",
              "2               0           0.0                    4  ...                3   \n",
              "3               0           0.0                    2  ...                5   \n",
              "4               0           1.0                    3  ...                3   \n",
              "\n",
              "   SeatComfort  LegRoom  Cleanliness  FoodAndDrink  In-flightWifi  \\\n",
              "0            5        2            5             5              3   \n",
              "1            4        5            5             3              2   \n",
              "2            5        3            5             5              4   \n",
              "3            5        5            4             4              2   \n",
              "4            4        4            5             4              3   \n",
              "\n",
              "   In-flightEntertainment  BaggageHandling  PriceUSD             Satisfaction  \n",
              "0                       5                5   1053.59  Neutral or Dissatisfied  \n",
              "1                       5                5   1051.94                Satisfied  \n",
              "2                       3                3   1627.35                Satisfied  \n",
              "3                       5                5   2520.45                Satisfied  \n",
              "4                       3                3   6048.50                Satisfied  \n",
              "\n",
              "[5 rows x 22 columns]"
            ],
            "text/html": [
              "\n",
              "  <div id=\"df-1c69e3b2-9386-4583-bf43-bca63e32bc36\">\n",
              "    <div class=\"colab-df-container\">\n",
              "      <div>\n",
              "<style scoped>\n",
              "    .dataframe tbody tr th:only-of-type {\n",
              "        vertical-align: middle;\n",
              "    }\n",
              "\n",
              "    .dataframe tbody tr th {\n",
              "        vertical-align: top;\n",
              "    }\n",
              "\n",
              "    .dataframe thead th {\n",
              "        text-align: right;\n",
              "    }\n",
              "</style>\n",
              "<table border=\"1\" class=\"dataframe\">\n",
              "  <thead>\n",
              "    <tr style=\"text-align: right;\">\n",
              "      <th></th>\n",
              "      <th>ID</th>\n",
              "      <th>Gender</th>\n",
              "      <th>Age</th>\n",
              "      <th>CustomerType</th>\n",
              "      <th>TypeOfTravel</th>\n",
              "      <th>Class</th>\n",
              "      <th>FlightDistance</th>\n",
              "      <th>DepartureDelay</th>\n",
              "      <th>ArrivalDelay</th>\n",
              "      <th>EaseOfOnlineBooking</th>\n",
              "      <th>...</th>\n",
              "      <th>On-boardService</th>\n",
              "      <th>SeatComfort</th>\n",
              "      <th>LegRoom</th>\n",
              "      <th>Cleanliness</th>\n",
              "      <th>FoodAndDrink</th>\n",
              "      <th>In-flightWifi</th>\n",
              "      <th>In-flightEntertainment</th>\n",
              "      <th>BaggageHandling</th>\n",
              "      <th>PriceUSD</th>\n",
              "      <th>Satisfaction</th>\n",
              "    </tr>\n",
              "  </thead>\n",
              "  <tbody>\n",
              "    <tr>\n",
              "      <th>0</th>\n",
              "      <td>1</td>\n",
              "      <td>Male</td>\n",
              "      <td>48</td>\n",
              "      <td>First-time</td>\n",
              "      <td>Business</td>\n",
              "      <td>Business</td>\n",
              "      <td>821</td>\n",
              "      <td>2</td>\n",
              "      <td>5.0</td>\n",
              "      <td>3</td>\n",
              "      <td>...</td>\n",
              "      <td>3</td>\n",
              "      <td>5</td>\n",
              "      <td>2</td>\n",
              "      <td>5</td>\n",
              "      <td>5</td>\n",
              "      <td>3</td>\n",
              "      <td>5</td>\n",
              "      <td>5</td>\n",
              "      <td>1053.59</td>\n",
              "      <td>Neutral or Dissatisfied</td>\n",
              "    </tr>\n",
              "    <tr>\n",
              "      <th>1</th>\n",
              "      <td>2</td>\n",
              "      <td>Female</td>\n",
              "      <td>35</td>\n",
              "      <td>Returning</td>\n",
              "      <td>Business</td>\n",
              "      <td>Business</td>\n",
              "      <td>821</td>\n",
              "      <td>26</td>\n",
              "      <td>39.0</td>\n",
              "      <td>2</td>\n",
              "      <td>...</td>\n",
              "      <td>5</td>\n",
              "      <td>4</td>\n",
              "      <td>5</td>\n",
              "      <td>5</td>\n",
              "      <td>3</td>\n",
              "      <td>2</td>\n",
              "      <td>5</td>\n",
              "      <td>5</td>\n",
              "      <td>1051.94</td>\n",
              "      <td>Satisfied</td>\n",
              "    </tr>\n",
              "    <tr>\n",
              "      <th>2</th>\n",
              "      <td>3</td>\n",
              "      <td>Male</td>\n",
              "      <td>41</td>\n",
              "      <td>Returning</td>\n",
              "      <td>Business</td>\n",
              "      <td>Business</td>\n",
              "      <td>853</td>\n",
              "      <td>0</td>\n",
              "      <td>0.0</td>\n",
              "      <td>4</td>\n",
              "      <td>...</td>\n",
              "      <td>3</td>\n",
              "      <td>5</td>\n",
              "      <td>3</td>\n",
              "      <td>5</td>\n",
              "      <td>5</td>\n",
              "      <td>4</td>\n",
              "      <td>3</td>\n",
              "      <td>3</td>\n",
              "      <td>1627.35</td>\n",
              "      <td>Satisfied</td>\n",
              "    </tr>\n",
              "    <tr>\n",
              "      <th>3</th>\n",
              "      <td>4</td>\n",
              "      <td>Male</td>\n",
              "      <td>50</td>\n",
              "      <td>Returning</td>\n",
              "      <td>Business</td>\n",
              "      <td>Business</td>\n",
              "      <td>1905</td>\n",
              "      <td>0</td>\n",
              "      <td>0.0</td>\n",
              "      <td>2</td>\n",
              "      <td>...</td>\n",
              "      <td>5</td>\n",
              "      <td>5</td>\n",
              "      <td>5</td>\n",
              "      <td>4</td>\n",
              "      <td>4</td>\n",
              "      <td>2</td>\n",
              "      <td>5</td>\n",
              "      <td>5</td>\n",
              "      <td>2520.45</td>\n",
              "      <td>Satisfied</td>\n",
              "    </tr>\n",
              "    <tr>\n",
              "      <th>4</th>\n",
              "      <td>5</td>\n",
              "      <td>Female</td>\n",
              "      <td>49</td>\n",
              "      <td>Returning</td>\n",
              "      <td>Business</td>\n",
              "      <td>Business</td>\n",
              "      <td>3470</td>\n",
              "      <td>0</td>\n",
              "      <td>1.0</td>\n",
              "      <td>3</td>\n",
              "      <td>...</td>\n",
              "      <td>3</td>\n",
              "      <td>4</td>\n",
              "      <td>4</td>\n",
              "      <td>5</td>\n",
              "      <td>4</td>\n",
              "      <td>3</td>\n",
              "      <td>3</td>\n",
              "      <td>3</td>\n",
              "      <td>6048.50</td>\n",
              "      <td>Satisfied</td>\n",
              "    </tr>\n",
              "  </tbody>\n",
              "</table>\n",
              "<p>5 rows × 22 columns</p>\n",
              "</div>\n",
              "      <button class=\"colab-df-convert\" onclick=\"convertToInteractive('df-1c69e3b2-9386-4583-bf43-bca63e32bc36')\"\n",
              "              title=\"Convert this dataframe to an interactive table.\"\n",
              "              style=\"display:none;\">\n",
              "        \n",
              "  <svg xmlns=\"http://www.w3.org/2000/svg\" height=\"24px\"viewBox=\"0 0 24 24\"\n",
              "       width=\"24px\">\n",
              "    <path d=\"M0 0h24v24H0V0z\" fill=\"none\"/>\n",
              "    <path d=\"M18.56 5.44l.94 2.06.94-2.06 2.06-.94-2.06-.94-.94-2.06-.94 2.06-2.06.94zm-11 1L8.5 8.5l.94-2.06 2.06-.94-2.06-.94L8.5 2.5l-.94 2.06-2.06.94zm10 10l.94 2.06.94-2.06 2.06-.94-2.06-.94-.94-2.06-.94 2.06-2.06.94z\"/><path d=\"M17.41 7.96l-1.37-1.37c-.4-.4-.92-.59-1.43-.59-.52 0-1.04.2-1.43.59L10.3 9.45l-7.72 7.72c-.78.78-.78 2.05 0 2.83L4 21.41c.39.39.9.59 1.41.59.51 0 1.02-.2 1.41-.59l7.78-7.78 2.81-2.81c.8-.78.8-2.07 0-2.86zM5.41 20L4 18.59l7.72-7.72 1.47 1.35L5.41 20z\"/>\n",
              "  </svg>\n",
              "      </button>\n",
              "      \n",
              "  <style>\n",
              "    .colab-df-container {\n",
              "      display:flex;\n",
              "      flex-wrap:wrap;\n",
              "      gap: 12px;\n",
              "    }\n",
              "\n",
              "    .colab-df-convert {\n",
              "      background-color: #E8F0FE;\n",
              "      border: none;\n",
              "      border-radius: 50%;\n",
              "      cursor: pointer;\n",
              "      display: none;\n",
              "      fill: #1967D2;\n",
              "      height: 32px;\n",
              "      padding: 0 0 0 0;\n",
              "      width: 32px;\n",
              "    }\n",
              "\n",
              "    .colab-df-convert:hover {\n",
              "      background-color: #E2EBFA;\n",
              "      box-shadow: 0px 1px 2px rgba(60, 64, 67, 0.3), 0px 1px 3px 1px rgba(60, 64, 67, 0.15);\n",
              "      fill: #174EA6;\n",
              "    }\n",
              "\n",
              "    [theme=dark] .colab-df-convert {\n",
              "      background-color: #3B4455;\n",
              "      fill: #D2E3FC;\n",
              "    }\n",
              "\n",
              "    [theme=dark] .colab-df-convert:hover {\n",
              "      background-color: #434B5C;\n",
              "      box-shadow: 0px 1px 3px 1px rgba(0, 0, 0, 0.15);\n",
              "      filter: drop-shadow(0px 1px 2px rgba(0, 0, 0, 0.3));\n",
              "      fill: #FFFFFF;\n",
              "    }\n",
              "  </style>\n",
              "\n",
              "      <script>\n",
              "        const buttonEl =\n",
              "          document.querySelector('#df-1c69e3b2-9386-4583-bf43-bca63e32bc36 button.colab-df-convert');\n",
              "        buttonEl.style.display =\n",
              "          google.colab.kernel.accessAllowed ? 'block' : 'none';\n",
              "\n",
              "        async function convertToInteractive(key) {\n",
              "          const element = document.querySelector('#df-1c69e3b2-9386-4583-bf43-bca63e32bc36');\n",
              "          const dataTable =\n",
              "            await google.colab.kernel.invokeFunction('convertToInteractive',\n",
              "                                                     [key], {});\n",
              "          if (!dataTable) return;\n",
              "\n",
              "          const docLinkHtml = 'Like what you see? Visit the ' +\n",
              "            '<a target=\"_blank\" href=https://colab.research.google.com/notebooks/data_table.ipynb>data table notebook</a>'\n",
              "            + ' to learn more about interactive tables.';\n",
              "          element.innerHTML = '';\n",
              "          dataTable['output_type'] = 'display_data';\n",
              "          await google.colab.output.renderOutput(dataTable, element);\n",
              "          const docLink = document.createElement('div');\n",
              "          docLink.innerHTML = docLinkHtml;\n",
              "          element.appendChild(docLink);\n",
              "        }\n",
              "      </script>\n",
              "    </div>\n",
              "  </div>\n",
              "  "
            ]
          },
          "metadata": {},
          "execution_count": 2
        }
      ]
    },
    {
      "cell_type": "code",
      "metadata": {
        "id": "-BM-pAfg72wF",
        "colab": {
          "base_uri": "https://localhost:8080/",
          "height": 206
        },
        "outputId": "e9419dab-2f05-4d44-b0a7-ec90e982fec2"
      },
      "source": [
        "adult_dl = pd.DataFrame(adult, columns = ['Age', 'FlightDistance', 'Cleanliness','On-boardService','PriceUSD'])\n",
        "adult_dl.head()"
      ],
      "execution_count": 4,
      "outputs": [
        {
          "output_type": "execute_result",
          "data": {
            "text/plain": [
              "   Age  FlightDistance  Cleanliness  On-boardService  PriceUSD\n",
              "0   48             821            5                3   1053.59\n",
              "1   35             821            5                5   1051.94\n",
              "2   41             853            5                3   1627.35\n",
              "3   50            1905            4                5   2520.45\n",
              "4   49            3470            5                3   6048.50"
            ],
            "text/html": [
              "\n",
              "  <div id=\"df-eb36b422-d897-4eca-9759-8ad13b961085\">\n",
              "    <div class=\"colab-df-container\">\n",
              "      <div>\n",
              "<style scoped>\n",
              "    .dataframe tbody tr th:only-of-type {\n",
              "        vertical-align: middle;\n",
              "    }\n",
              "\n",
              "    .dataframe tbody tr th {\n",
              "        vertical-align: top;\n",
              "    }\n",
              "\n",
              "    .dataframe thead th {\n",
              "        text-align: right;\n",
              "    }\n",
              "</style>\n",
              "<table border=\"1\" class=\"dataframe\">\n",
              "  <thead>\n",
              "    <tr style=\"text-align: right;\">\n",
              "      <th></th>\n",
              "      <th>Age</th>\n",
              "      <th>FlightDistance</th>\n",
              "      <th>Cleanliness</th>\n",
              "      <th>On-boardService</th>\n",
              "      <th>PriceUSD</th>\n",
              "    </tr>\n",
              "  </thead>\n",
              "  <tbody>\n",
              "    <tr>\n",
              "      <th>0</th>\n",
              "      <td>48</td>\n",
              "      <td>821</td>\n",
              "      <td>5</td>\n",
              "      <td>3</td>\n",
              "      <td>1053.59</td>\n",
              "    </tr>\n",
              "    <tr>\n",
              "      <th>1</th>\n",
              "      <td>35</td>\n",
              "      <td>821</td>\n",
              "      <td>5</td>\n",
              "      <td>5</td>\n",
              "      <td>1051.94</td>\n",
              "    </tr>\n",
              "    <tr>\n",
              "      <th>2</th>\n",
              "      <td>41</td>\n",
              "      <td>853</td>\n",
              "      <td>5</td>\n",
              "      <td>3</td>\n",
              "      <td>1627.35</td>\n",
              "    </tr>\n",
              "    <tr>\n",
              "      <th>3</th>\n",
              "      <td>50</td>\n",
              "      <td>1905</td>\n",
              "      <td>4</td>\n",
              "      <td>5</td>\n",
              "      <td>2520.45</td>\n",
              "    </tr>\n",
              "    <tr>\n",
              "      <th>4</th>\n",
              "      <td>49</td>\n",
              "      <td>3470</td>\n",
              "      <td>5</td>\n",
              "      <td>3</td>\n",
              "      <td>6048.50</td>\n",
              "    </tr>\n",
              "  </tbody>\n",
              "</table>\n",
              "</div>\n",
              "      <button class=\"colab-df-convert\" onclick=\"convertToInteractive('df-eb36b422-d897-4eca-9759-8ad13b961085')\"\n",
              "              title=\"Convert this dataframe to an interactive table.\"\n",
              "              style=\"display:none;\">\n",
              "        \n",
              "  <svg xmlns=\"http://www.w3.org/2000/svg\" height=\"24px\"viewBox=\"0 0 24 24\"\n",
              "       width=\"24px\">\n",
              "    <path d=\"M0 0h24v24H0V0z\" fill=\"none\"/>\n",
              "    <path d=\"M18.56 5.44l.94 2.06.94-2.06 2.06-.94-2.06-.94-.94-2.06-.94 2.06-2.06.94zm-11 1L8.5 8.5l.94-2.06 2.06-.94-2.06-.94L8.5 2.5l-.94 2.06-2.06.94zm10 10l.94 2.06.94-2.06 2.06-.94-2.06-.94-.94-2.06-.94 2.06-2.06.94z\"/><path d=\"M17.41 7.96l-1.37-1.37c-.4-.4-.92-.59-1.43-.59-.52 0-1.04.2-1.43.59L10.3 9.45l-7.72 7.72c-.78.78-.78 2.05 0 2.83L4 21.41c.39.39.9.59 1.41.59.51 0 1.02-.2 1.41-.59l7.78-7.78 2.81-2.81c.8-.78.8-2.07 0-2.86zM5.41 20L4 18.59l7.72-7.72 1.47 1.35L5.41 20z\"/>\n",
              "  </svg>\n",
              "      </button>\n",
              "      \n",
              "  <style>\n",
              "    .colab-df-container {\n",
              "      display:flex;\n",
              "      flex-wrap:wrap;\n",
              "      gap: 12px;\n",
              "    }\n",
              "\n",
              "    .colab-df-convert {\n",
              "      background-color: #E8F0FE;\n",
              "      border: none;\n",
              "      border-radius: 50%;\n",
              "      cursor: pointer;\n",
              "      display: none;\n",
              "      fill: #1967D2;\n",
              "      height: 32px;\n",
              "      padding: 0 0 0 0;\n",
              "      width: 32px;\n",
              "    }\n",
              "\n",
              "    .colab-df-convert:hover {\n",
              "      background-color: #E2EBFA;\n",
              "      box-shadow: 0px 1px 2px rgba(60, 64, 67, 0.3), 0px 1px 3px 1px rgba(60, 64, 67, 0.15);\n",
              "      fill: #174EA6;\n",
              "    }\n",
              "\n",
              "    [theme=dark] .colab-df-convert {\n",
              "      background-color: #3B4455;\n",
              "      fill: #D2E3FC;\n",
              "    }\n",
              "\n",
              "    [theme=dark] .colab-df-convert:hover {\n",
              "      background-color: #434B5C;\n",
              "      box-shadow: 0px 1px 3px 1px rgba(0, 0, 0, 0.15);\n",
              "      filter: drop-shadow(0px 1px 2px rgba(0, 0, 0, 0.3));\n",
              "      fill: #FFFFFF;\n",
              "    }\n",
              "  </style>\n",
              "\n",
              "      <script>\n",
              "        const buttonEl =\n",
              "          document.querySelector('#df-eb36b422-d897-4eca-9759-8ad13b961085 button.colab-df-convert');\n",
              "        buttonEl.style.display =\n",
              "          google.colab.kernel.accessAllowed ? 'block' : 'none';\n",
              "\n",
              "        async function convertToInteractive(key) {\n",
              "          const element = document.querySelector('#df-eb36b422-d897-4eca-9759-8ad13b961085');\n",
              "          const dataTable =\n",
              "            await google.colab.kernel.invokeFunction('convertToInteractive',\n",
              "                                                     [key], {});\n",
              "          if (!dataTable) return;\n",
              "\n",
              "          const docLinkHtml = 'Like what you see? Visit the ' +\n",
              "            '<a target=\"_blank\" href=https://colab.research.google.com/notebooks/data_table.ipynb>data table notebook</a>'\n",
              "            + ' to learn more about interactive tables.';\n",
              "          element.innerHTML = '';\n",
              "          dataTable['output_type'] = 'display_data';\n",
              "          await google.colab.output.renderOutput(dataTable, element);\n",
              "          const docLink = document.createElement('div');\n",
              "          docLink.innerHTML = docLinkHtml;\n",
              "          element.appendChild(docLink);\n",
              "        }\n",
              "      </script>\n",
              "    </div>\n",
              "  </div>\n",
              "  "
            ]
          },
          "metadata": {},
          "execution_count": 4
        }
      ]
    },
    {
      "cell_type": "code",
      "metadata": {
        "id": "VDuoUaeU2Tfm"
      },
      "source": [
        "train_dataset = adult_dl.sample(frac=0.8, random_state=0)\n",
        "test_dataset = adult_dl.drop(train_dataset.index)"
      ],
      "execution_count": 5,
      "outputs": []
    },
    {
      "cell_type": "code",
      "metadata": {
        "id": "DOaQmB3L2vKj"
      },
      "source": [
        "train_features = train_dataset.copy()\n",
        "test_features = test_dataset.copy()\n",
        "\n",
        "train_labels = train_features.pop('PriceUSD')\n",
        "test_labels = test_features.pop('PriceUSD')"
      ],
      "execution_count": 6,
      "outputs": []
    },
    {
      "cell_type": "code",
      "metadata": {
        "id": "u3zzDTud1vxI"
      },
      "source": [
        "normalizer = preprocessing.Normalization(axis=-1)"
      ],
      "execution_count": 7,
      "outputs": []
    },
    {
      "cell_type": "code",
      "metadata": {
        "id": "iFxkYAQs4N6V"
      },
      "source": [
        "normalizer.adapt(np.array(train_features))"
      ],
      "execution_count": 8,
      "outputs": []
    },
    {
      "cell_type": "code",
      "metadata": {
        "colab": {
          "base_uri": "https://localhost:8080/"
        },
        "id": "iFuXKv-M4YL5",
        "outputId": "1308fe2c-f19d-4d0a-b167-9aa921d99a83"
      },
      "source": [
        "print(normalizer.mean.numpy())"
      ],
      "execution_count": 9,
      "outputs": [
        {
          "output_type": "stream",
          "name": "stdout",
          "text": [
            "[[  39.405933  1182.3593       3.284125     3.3817616]]\n"
          ]
        }
      ]
    },
    {
      "cell_type": "code",
      "metadata": {
        "colab": {
          "base_uri": "https://localhost:8080/"
        },
        "id": "dqt9CbSR4iao",
        "outputId": "5f902dfd-c6b9-4728-ebb4-e1228710e6bb"
      },
      "source": [
        "first = np.array(train_features[:1])\n",
        "\n",
        "with np.printoptions(precision=2, suppress=True):\n",
        "  print('Original data:', first)\n",
        "  print()\n",
        "  print('Normalized data:', normalizer(first).numpy())"
      ],
      "execution_count": 10,
      "outputs": [
        {
          "output_type": "stream",
          "name": "stdout",
          "text": [
            "Original data: [[ 71 223   4   3]]\n",
            "\n",
            "Normalized data: [[ 2.09 -0.96  0.55 -0.3 ]]\n"
          ]
        }
      ]
    },
    {
      "cell_type": "code",
      "metadata": {
        "id": "K-FrbA9NBRgK"
      },
      "source": [
        "# First, we build the normalization layer:\n",
        "Age_new = np.array(train_features['Age'])\n",
        "\n",
        "Age_normalizer = preprocessing.Normalization(input_shape=[1,], axis=None)\n",
        "Age_normalizer.adapt(Age_new)"
      ],
      "execution_count": 11,
      "outputs": []
    },
    {
      "cell_type": "code",
      "metadata": {
        "id": "zBgORl4A_M-3"
      },
      "source": [
        "# Now we build the framework that holds all the models:\n",
        "Age_model = tf.keras.Sequential([\n",
        "    Age_normalizer,\n",
        "    layers.Dense(units=1)\n",
        "])\n",
        "\n"
      ],
      "execution_count": 12,
      "outputs": []
    },
    {
      "cell_type": "code",
      "metadata": {
        "id": "7zL3vNLLDiO3"
      },
      "source": [
        "Age_model.compile(\n",
        "    optimizer=tf.optimizers.Adam(learning_rate=0.1),\n",
        "    loss='mean_absolute_error')"
      ],
      "execution_count": 13,
      "outputs": []
    },
    {
      "cell_type": "code",
      "metadata": {
        "colab": {
          "base_uri": "https://localhost:8080/",
          "height": 415
        },
        "id": "jCFlvfrMDiWs",
        "outputId": "ff054a3a-acda-4cdc-baf3-2123a2169add"
      },
      "source": [
        "%%time\n",
        "history = Age_model.fit(\n",
        "    train_features['Age'], train_labels,\n",
        "    epochs=100,\n",
        "    # suppress logging\n",
        "    verbose=0,\n",
        "    # Calculate validation results on 20% of the training data. Validation means that we test as we go, on a 20% subset of the training data\n",
        "    validation_split = 0.2)"
      ],
      "execution_count": 14,
      "outputs": [
        {
          "output_type": "error",
          "ename": "KeyboardInterrupt",
          "evalue": "ignored",
          "traceback": [
            "\u001b[0;31m---------------------------------------------------------------------------\u001b[0m",
            "\u001b[0;31mKeyboardInterrupt\u001b[0m                         Traceback (most recent call last)",
            "\u001b[0;32m<timed exec>\u001b[0m in \u001b[0;36m<module>\u001b[0;34m\u001b[0m\n",
            "\u001b[0;32m/usr/local/lib/python3.9/dist-packages/keras/utils/traceback_utils.py\u001b[0m in \u001b[0;36merror_handler\u001b[0;34m(*args, **kwargs)\u001b[0m\n\u001b[1;32m     63\u001b[0m         \u001b[0mfiltered_tb\u001b[0m \u001b[0;34m=\u001b[0m \u001b[0;32mNone\u001b[0m\u001b[0;34m\u001b[0m\u001b[0;34m\u001b[0m\u001b[0m\n\u001b[1;32m     64\u001b[0m         \u001b[0;32mtry\u001b[0m\u001b[0;34m:\u001b[0m\u001b[0;34m\u001b[0m\u001b[0;34m\u001b[0m\u001b[0m\n\u001b[0;32m---> 65\u001b[0;31m             \u001b[0;32mreturn\u001b[0m \u001b[0mfn\u001b[0m\u001b[0;34m(\u001b[0m\u001b[0;34m*\u001b[0m\u001b[0margs\u001b[0m\u001b[0;34m,\u001b[0m \u001b[0;34m**\u001b[0m\u001b[0mkwargs\u001b[0m\u001b[0;34m)\u001b[0m\u001b[0;34m\u001b[0m\u001b[0;34m\u001b[0m\u001b[0m\n\u001b[0m\u001b[1;32m     66\u001b[0m         \u001b[0;32mexcept\u001b[0m \u001b[0mException\u001b[0m \u001b[0;32mas\u001b[0m \u001b[0me\u001b[0m\u001b[0;34m:\u001b[0m\u001b[0;34m\u001b[0m\u001b[0;34m\u001b[0m\u001b[0m\n\u001b[1;32m     67\u001b[0m             \u001b[0mfiltered_tb\u001b[0m \u001b[0;34m=\u001b[0m \u001b[0m_process_traceback_frames\u001b[0m\u001b[0;34m(\u001b[0m\u001b[0me\u001b[0m\u001b[0;34m.\u001b[0m\u001b[0m__traceback__\u001b[0m\u001b[0;34m)\u001b[0m\u001b[0;34m\u001b[0m\u001b[0;34m\u001b[0m\u001b[0m\n",
            "\u001b[0;32m/usr/local/lib/python3.9/dist-packages/keras/engine/training.py\u001b[0m in \u001b[0;36mfit\u001b[0;34m(self, x, y, batch_size, epochs, verbose, callbacks, validation_split, validation_data, shuffle, class_weight, sample_weight, initial_epoch, steps_per_epoch, validation_steps, validation_batch_size, validation_freq, max_queue_size, workers, use_multiprocessing)\u001b[0m\n\u001b[1;32m   1727\u001b[0m                             \u001b[0msteps_per_execution\u001b[0m\u001b[0;34m=\u001b[0m\u001b[0mself\u001b[0m\u001b[0;34m.\u001b[0m\u001b[0m_steps_per_execution\u001b[0m\u001b[0;34m,\u001b[0m\u001b[0;34m\u001b[0m\u001b[0;34m\u001b[0m\u001b[0m\n\u001b[1;32m   1728\u001b[0m                         )\n\u001b[0;32m-> 1729\u001b[0;31m                     val_logs = self.evaluate(\n\u001b[0m\u001b[1;32m   1730\u001b[0m                         \u001b[0mx\u001b[0m\u001b[0;34m=\u001b[0m\u001b[0mval_x\u001b[0m\u001b[0;34m,\u001b[0m\u001b[0;34m\u001b[0m\u001b[0;34m\u001b[0m\u001b[0m\n\u001b[1;32m   1731\u001b[0m                         \u001b[0my\u001b[0m\u001b[0;34m=\u001b[0m\u001b[0mval_y\u001b[0m\u001b[0;34m,\u001b[0m\u001b[0;34m\u001b[0m\u001b[0;34m\u001b[0m\u001b[0m\n",
            "\u001b[0;32m/usr/local/lib/python3.9/dist-packages/keras/utils/traceback_utils.py\u001b[0m in \u001b[0;36merror_handler\u001b[0;34m(*args, **kwargs)\u001b[0m\n\u001b[1;32m     63\u001b[0m         \u001b[0mfiltered_tb\u001b[0m \u001b[0;34m=\u001b[0m \u001b[0;32mNone\u001b[0m\u001b[0;34m\u001b[0m\u001b[0;34m\u001b[0m\u001b[0m\n\u001b[1;32m     64\u001b[0m         \u001b[0;32mtry\u001b[0m\u001b[0;34m:\u001b[0m\u001b[0;34m\u001b[0m\u001b[0;34m\u001b[0m\u001b[0m\n\u001b[0;32m---> 65\u001b[0;31m             \u001b[0;32mreturn\u001b[0m \u001b[0mfn\u001b[0m\u001b[0;34m(\u001b[0m\u001b[0;34m*\u001b[0m\u001b[0margs\u001b[0m\u001b[0;34m,\u001b[0m \u001b[0;34m**\u001b[0m\u001b[0mkwargs\u001b[0m\u001b[0;34m)\u001b[0m\u001b[0;34m\u001b[0m\u001b[0;34m\u001b[0m\u001b[0m\n\u001b[0m\u001b[1;32m     66\u001b[0m         \u001b[0;32mexcept\u001b[0m \u001b[0mException\u001b[0m \u001b[0;32mas\u001b[0m \u001b[0me\u001b[0m\u001b[0;34m:\u001b[0m\u001b[0;34m\u001b[0m\u001b[0;34m\u001b[0m\u001b[0m\n\u001b[1;32m     67\u001b[0m             \u001b[0mfiltered_tb\u001b[0m \u001b[0;34m=\u001b[0m \u001b[0m_process_traceback_frames\u001b[0m\u001b[0;34m(\u001b[0m\u001b[0me\u001b[0m\u001b[0;34m.\u001b[0m\u001b[0m__traceback__\u001b[0m\u001b[0;34m)\u001b[0m\u001b[0;34m\u001b[0m\u001b[0;34m\u001b[0m\u001b[0m\n",
            "\u001b[0;31mKeyboardInterrupt\u001b[0m: "
          ]
        }
      ]
    },
    {
      "cell_type": "code",
      "source": [
        "train_features['Age']"
      ],
      "metadata": {
        "colab": {
          "base_uri": "https://localhost:8080/"
        },
        "id": "Y8ueGxNLwwiL",
        "outputId": "66aad9a9-6a2d-47bd-c9e8-0a51c7943c26"
      },
      "execution_count": 15,
      "outputs": [
        {
          "output_type": "execute_result",
          "data": {
            "text/plain": [
              "102389    71\n",
              "108473    25\n",
              "87998     44\n",
              "58362     66\n",
              "42254     38\n",
              "          ..\n",
              "24536     27\n",
              "117333    54\n",
              "44119     37\n",
              "105539    39\n",
              "75167     16\n",
              "Name: Age, Length: 100901, dtype: int64"
            ]
          },
          "metadata": {},
          "execution_count": 15
        }
      ]
    },
    {
      "cell_type": "code",
      "metadata": {
        "id": "EIOA_tsOAS_W",
        "colab": {
          "base_uri": "https://localhost:8080/"
        },
        "outputId": "e380d5d7-88aa-44ee-faa7-72d5b56a1788"
      },
      "source": [
        "x = tf.linspace(0.0, 250, 251)\n",
        "y = Age_model.predict(x)"
      ],
      "execution_count": 16,
      "outputs": [
        {
          "output_type": "stream",
          "name": "stdout",
          "text": [
            "8/8 [==============================] - 0s 2ms/step\n"
          ]
        }
      ]
    },
    {
      "cell_type": "code",
      "metadata": {
        "id": "j_IVJUMrAn0a",
        "colab": {
          "base_uri": "https://localhost:8080/",
          "height": 449
        },
        "outputId": "6acb9d9f-be1f-4d57-ad06-c1398d953a47"
      },
      "source": [
        "def plot_age(x, y):\n",
        "  plt.scatter(train_features['Age'], train_labels, label='Data')\n",
        "  plt.plot(x, y, color='k', label='Predictions')\n",
        "  plt.xlabel('Age')\n",
        "  plt.ylabel('PriceUSD')\n",
        "  plt.legend()\n",
        "plot_age(x,y) "
      ],
      "execution_count": 17,
      "outputs": [
        {
          "output_type": "display_data",
          "data": {
            "text/plain": [
              "<Figure size 640x480 with 1 Axes>"
            ],
            "image/png": "[encoded data removed]"
          },
          "metadata": {}
        }
      ]
    },
    {
      "cell_type": "code",
      "metadata": {
        "id": "vyAVqluWugku"
      },
      "source": [
        "test_results = {}\n",
        "\n",
        "test_results['Age_model'] = Age_model.evaluate(\n",
        "    test_features['Age'],\n",
        "    test_labels, verbose=0)"
      ],
      "execution_count": 18,
      "outputs": []
    },
    {
      "cell_type": "code",
      "metadata": {
        "id": "DqIVUbsKv7Yu"
      },
      "source": [
        "linear_model = tf.keras.Sequential([\n",
        "    normalizer,\n",
        "    layers.Dense(units=1)\n",
        "])"
      ],
      "execution_count": 19,
      "outputs": []
    },
    {
      "cell_type": "code",
      "metadata": {
        "colab": {
          "base_uri": "https://localhost:8080/"
        },
        "id": "PstTgNeawWRU",
        "outputId": "c01cfa17-6d18-4bf1-97fc-ea1be9388188"
      },
      "source": [
        "linear_model.layers[1].kernel"
      ],
      "execution_count": 20,
      "outputs": [
        {
          "output_type": "execute_result",
          "data": {
            "text/plain": [
              "<tf.Variable 'dense_1/kernel:0' shape=(4, 1) dtype=float32, numpy=\n",
              "array([[ 0.90453315],\n",
              "       [-0.11817884],\n",
              "       [ 0.5395309 ],\n",
              "       [-0.2774979 ]], dtype=float32)>"
            ]
          },
          "metadata": {},
          "execution_count": 20
        }
      ]
    },
    {
      "cell_type": "code",
      "metadata": {
        "id": "_wO8dfkkwhvI"
      },
      "source": [
        "linear_model.compile(\n",
        "    optimizer=tf.optimizers.Adam(learning_rate=0.1),\n",
        "    loss='mean_absolute_error')"
      ],
      "execution_count": 21,
      "outputs": []
    },
    {
      "cell_type": "code",
      "metadata": {
        "colab": {
          "base_uri": "https://localhost:8080/"
        },
        "id": "KKKIMHS9wput",
        "outputId": "aba9352d-dcb5-4924-a5f2-c786753dbc85"
      },
      "source": [
        "%%time\n",
        "history = linear_model.fit(\n",
        "    train_features, train_labels, \n",
        "    epochs=32,\n",
        "    # 10 epochs, so we turn on logging\n",
        "    verbose=1,\n",
        "    # Calculate validation results on 20% of the training data\n",
        "    validation_split = 0.2)"
      ],
      "execution_count": 22,
      "outputs": [
        {
          "output_type": "stream",
          "name": "stdout",
          "text": [
            "Epoch 1/32\n",
            "2523/2523 [==============================] - 7s 3ms/step - loss: 1555.6476 - val_loss: 1418.9253\n",
            "Epoch 2/32\n",
            "2523/2523 [==============================] - 5s 2ms/step - loss: 1319.7367 - val_loss: 1188.8247\n",
            "Epoch 3/32\n",
            "2523/2523 [==============================] - 6s 2ms/step - loss: 1086.3130 - val_loss: 958.2673\n",
            "Epoch 4/32\n",
            "2523/2523 [==============================] - 5s 2ms/step - loss: 854.0023 - val_loss: 733.7217\n",
            "Epoch 5/32\n",
            "2523/2523 [==============================] - 5s 2ms/step - loss: 636.7191 - val_loss: 534.4290\n",
            "Epoch 6/32\n",
            "2523/2523 [==============================] - 6s 2ms/step - loss: 456.6473 - val_loss: 392.5434\n",
            "Epoch 7/32\n",
            "2523/2523 [==============================] - 6s 2ms/step - loss: 355.3111 - val_loss: 330.8299\n",
            "Epoch 8/32\n",
            "2523/2523 [==============================] - 6s 2ms/step - loss: 317.6133 - val_loss: 312.8065\n",
            "Epoch 9/32\n",
            "2523/2523 [==============================] - 5s 2ms/step - loss: 309.5049 - val_loss: 309.6366\n",
            "Epoch 10/32\n",
            "2523/2523 [==============================] - 5s 2ms/step - loss: 308.4314 - val_loss: 309.1535\n",
            "Epoch 11/32\n",
            "2523/2523 [==============================] - 6s 2ms/step - loss: 308.3283 - val_loss: 309.0771\n",
            "Epoch 12/32\n",
            "2523/2523 [==============================] - 6s 2ms/step - loss: 308.3222 - val_loss: 309.0672\n",
            "Epoch 13/32\n",
            "2523/2523 [==============================] - 7s 3ms/step - loss: 308.3170 - val_loss: 309.0725\n",
            "Epoch 14/32\n",
            "2523/2523 [==============================] - 5s 2ms/step - loss: 308.3060 - val_loss: 309.1258\n",
            "Epoch 15/32\n",
            "2523/2523 [==============================] - 6s 3ms/step - loss: 308.3115 - val_loss: 309.0517\n",
            "Epoch 16/32\n",
            "2523/2523 [==============================] - 5s 2ms/step - loss: 308.3111 - val_loss: 309.0586\n",
            "Epoch 17/32\n",
            "2523/2523 [==============================] - 6s 2ms/step - loss: 308.3072 - val_loss: 309.0889\n",
            "Epoch 18/32\n",
            "2523/2523 [==============================] - 5s 2ms/step - loss: 308.3137 - val_loss: 309.0641\n",
            "Epoch 19/32\n",
            "2523/2523 [==============================] - 6s 2ms/step - loss: 308.3125 - val_loss: 309.0904\n",
            "Epoch 20/32\n",
            "2523/2523 [==============================] - 6s 2ms/step - loss: 308.3104 - val_loss: 309.0676\n",
            "Epoch 21/32\n",
            "2523/2523 [==============================] - 5s 2ms/step - loss: 308.3130 - val_loss: 309.0666\n",
            "Epoch 22/32\n",
            "2523/2523 [==============================] - 6s 3ms/step - loss: 308.3161 - val_loss: 309.0344\n",
            "Epoch 23/32\n",
            "2523/2523 [==============================] - 5s 2ms/step - loss: 308.3162 - val_loss: 309.0261\n",
            "Epoch 24/32\n",
            "2523/2523 [==============================] - 6s 3ms/step - loss: 308.3113 - val_loss: 309.0505\n",
            "Epoch 25/32\n",
            "2523/2523 [==============================] - 5s 2ms/step - loss: 308.3186 - val_loss: 309.0361\n",
            "Epoch 26/32\n",
            "2523/2523 [==============================] - 6s 2ms/step - loss: 308.3149 - val_loss: 309.0530\n",
            "Epoch 27/32\n",
            "2523/2523 [==============================] - 6s 2ms/step - loss: 308.3138 - val_loss: 309.0348\n",
            "Epoch 28/32\n",
            "2523/2523 [==============================] - 5s 2ms/step - loss: 308.3100 - val_loss: 309.0642\n",
            "Epoch 29/32\n",
            "2523/2523 [==============================] - 6s 2ms/step - loss: 308.3190 - val_loss: 309.0638\n",
            "Epoch 30/32\n",
            "2523/2523 [==============================] - 5s 2ms/step - loss: 308.3178 - val_loss: 309.0387\n",
            "Epoch 31/32\n",
            "2523/2523 [==============================] - 6s 2ms/step - loss: 308.3142 - val_loss: 309.0550\n",
            "Epoch 32/32\n",
            "2523/2523 [==============================] - 6s 2ms/step - loss: 308.3103 - val_loss: 309.0674\n",
            "CPU times: user 2min 56s, sys: 9.36 s, total: 3min 5s\n",
            "Wall time: 3min 22s\n"
          ]
        }
      ]
    },
    {
      "cell_type": "code",
      "metadata": {
        "id": "9FlEqQxSyh9v"
      },
      "source": [
        "test_results['linear_model'] = linear_model.evaluate(\n",
        "    test_features, test_labels, verbose=0)"
      ],
      "execution_count": 23,
      "outputs": []
    },
    {
      "cell_type": "code",
      "metadata": {
        "id": "-RUfA-v7zNCQ"
      },
      "source": [
        "def build_and_compile_model(norm):\n",
        "  model = keras.Sequential([                 # Here you are setting up the keras.Sequential architecture\n",
        "      norm,                                  # This is the normalizer function we built before\n",
        "      layers.Dense(64, activation='relu'),   # Here is the first hidden layer--64 nodes, built with the relu function\n",
        "      layers.Dense(64, activation='relu'),   # Here is the second hidden layer, also built with the relu function\n",
        "      layers.Dense(1)                        # Here is the Dense layer for a single output because we are working on a REGRESSION\n",
        "  ])                                         # AND WE'RE DONE WITH BUILDING THE MODEL!\n",
        "\n",
        "  model.compile(loss='mean_absolute_error',   # Now we configure the runtime for our model; the loss function is mean absolute error--makes sense for a regression!\n",
        "                optimizer=tf.keras.optimizers.Adam(0.001))\n",
        "  return model"
      ],
      "execution_count": 24,
      "outputs": []
    },
    {
      "cell_type": "code",
      "metadata": {
        "id": "WwTGLgmn0VLO"
      },
      "source": [
        "dnn_Age_model = build_and_compile_model(Age_normalizer)"
      ],
      "execution_count": 25,
      "outputs": []
    },
    {
      "cell_type": "code",
      "metadata": {
        "colab": {
          "base_uri": "https://localhost:8080/"
        },
        "id": "QQUyjuXU0e0_",
        "outputId": "b4f13048-49d6-4289-c21f-5519f7be76c0"
      },
      "source": [
        "dnn_Age_model.summary()"
      ],
      "execution_count": 26,
      "outputs": [
        {
          "output_type": "stream",
          "name": "stdout",
          "text": [
            "Model: \"sequential_2\"\n",
            "_________________________________________________________________\n",
            " Layer (type)                Output Shape              Param #   \n",
            "=================================================================\n",
            " normalization_1 (Normalizat  (None, 1)                3         \n",
            " ion)                                                            \n",
            "                                                                 \n",
            " dense_2 (Dense)             (None, 64)                128       \n",
            "                                                                 \n",
            " dense_3 (Dense)             (None, 64)                4160      \n",
            "                                                                 \n",
            " dense_4 (Dense)             (None, 1)                 65        \n",
            "                                                                 \n",
            "=================================================================\n",
            "Total params: 4,356\n",
            "Trainable params: 4,353\n",
            "Non-trainable params: 3\n",
            "_________________________________________________________________\n"
          ]
        }
      ]
    },
    {
      "cell_type": "code",
      "metadata": {
        "colab": {
          "base_uri": "https://localhost:8080/"
        },
        "id": "pdNzp5h50tMO",
        "outputId": "6be4015b-57e0-4fe2-d33a-e45ba1b408d4"
      },
      "source": [
        "%%time\n",
        "history = dnn_Age_model.fit(\n",
        "    train_features['Age'], train_labels,\n",
        "    validation_split=0.2,\n",
        "    verbose=1, epochs=10)"
      ],
      "execution_count": 27,
      "outputs": [
        {
          "output_type": "stream",
          "name": "stdout",
          "text": [
            "Epoch 1/10\n",
            "2523/2523 [==============================] - 7s 2ms/step - loss: 1194.5175 - val_loss: 1116.3873\n",
            "Epoch 2/10\n",
            "2523/2523 [==============================] - 9s 3ms/step - loss: 1129.0410 - val_loss: 1115.9647\n",
            "Epoch 3/10\n",
            "2523/2523 [==============================] - 12s 5ms/step - loss: 1128.9578 - val_loss: 1116.2633\n",
            "Epoch 4/10\n",
            "2523/2523 [==============================] - 7s 3ms/step - loss: 1128.9611 - val_loss: 1116.4170\n",
            "Epoch 5/10\n",
            "2523/2523 [==============================] - 8s 3ms/step - loss: 1128.9180 - val_loss: 1116.0336\n",
            "Epoch 6/10\n",
            "2523/2523 [==============================] - 12s 5ms/step - loss: 1128.9479 - val_loss: 1115.9897\n",
            "Epoch 7/10\n",
            "2523/2523 [==============================] - 6s 3ms/step - loss: 1128.9637 - val_loss: 1116.3879\n",
            "Epoch 8/10\n",
            "2523/2523 [==============================] - 8s 3ms/step - loss: 1128.9078 - val_loss: 1116.0961\n",
            "Epoch 9/10\n",
            "2523/2523 [==============================] - 12s 5ms/step - loss: 1128.9211 - val_loss: 1116.1158\n",
            "Epoch 10/10\n",
            "2523/2523 [==============================] - 7s 3ms/step - loss: 1128.9254 - val_loss: 1115.9165\n",
            "CPU times: user 1min 17s, sys: 3.76 s, total: 1min 21s\n",
            "Wall time: 2min 22s\n"
          ]
        }
      ]
    },
    {
      "cell_type": "code",
      "source": [
        "train_labels"
      ],
      "metadata": {
        "colab": {
          "base_uri": "https://localhost:8080/"
        },
        "id": "taPL4VmJ_CwI",
        "outputId": "460eb660-1df3-4380-a177-96d43522dc29"
      },
      "execution_count": 28,
      "outputs": [
        {
          "output_type": "execute_result",
          "data": {
            "text/plain": [
              "102389     385.35\n",
              "108473    2012.45\n",
              "87998      416.11\n",
              "58362      504.56\n",
              "42254      626.82\n",
              "           ...   \n",
              "24536     1381.24\n",
              "117333     738.22\n",
              "44119      249.63\n",
              "105539     360.64\n",
              "75167     1098.56\n",
              "Name: PriceUSD, Length: 100901, dtype: float64"
            ]
          },
          "metadata": {},
          "execution_count": 28
        }
      ]
    },
    {
      "cell_type": "code",
      "metadata": {
        "id": "-kuceR4fB-ig",
        "colab": {
          "base_uri": "https://localhost:8080/",
          "height": 466
        },
        "outputId": "640ae4bc-1ec5-472f-8094-d028af82d3bd"
      },
      "source": [
        "x = tf.linspace(0.0, 250, 251)\n",
        "y = dnn_Age_model.predict(x)\n",
        "\n",
        "plot_age(x, y)"
      ],
      "execution_count": 29,
      "outputs": [
        {
          "output_type": "stream",
          "name": "stdout",
          "text": [
            "8/8 [==============================] - 0s 2ms/step\n"
          ]
        },
        {
          "output_type": "display_data",
          "data": {
            "text/plain": [
              "<Figure size 640x480 with 1 Axes>"
            ],
            "image/png": "[encoded data removed]"
          },
          "metadata": {}
        }
      ]
    },
    {
      "cell_type": "code",
      "metadata": {
        "id": "To9dY4na1Bbt"
      },
      "source": [
        "test_results['dnn_Age_model'] = dnn_Age_model.evaluate(\n",
        "    test_features['Age'], test_labels,\n",
        "    verbose=0)"
      ],
      "execution_count": 30,
      "outputs": []
    },
    {
      "cell_type": "code",
      "metadata": {
        "id": "HVS07zOT1efm",
        "colab": {
          "base_uri": "https://localhost:8080/"
        },
        "outputId": "548c3c37-abf5-4a27-8937-12ddc195d3a9"
      },
      "source": [
        "dnn_model = build_and_compile_model(normalizer)\n",
        "dnn_model.summary()"
      ],
      "execution_count": 31,
      "outputs": [
        {
          "output_type": "stream",
          "name": "stdout",
          "text": [
            "Model: \"sequential_3\"\n",
            "_________________________________________________________________\n",
            " Layer (type)                Output Shape              Param #   \n",
            "=================================================================\n",
            " normalization (Normalizatio  (None, 4)                9         \n",
            " n)                                                              \n",
            "                                                                 \n",
            " dense_5 (Dense)             (None, 64)                320       \n",
            "                                                                 \n",
            " dense_6 (Dense)             (None, 64)                4160      \n",
            "                                                                 \n",
            " dense_7 (Dense)             (None, 1)                 65        \n",
            "                                                                 \n",
            "=================================================================\n",
            "Total params: 4,554\n",
            "Trainable params: 4,545\n",
            "Non-trainable params: 9\n",
            "_________________________________________________________________\n"
          ]
        }
      ]
    },
    {
      "cell_type": "code",
      "metadata": {
        "id": "_ob1LsbR1oZx",
        "colab": {
          "base_uri": "https://localhost:8080/"
        },
        "outputId": "57fe6a29-777c-4474-a214-5df78ee86de3"
      },
      "source": [
        "%%time\n",
        "history = dnn_model.fit(\n",
        "    train_features, train_labels,\n",
        "    validation_split=0.2,\n",
        "    verbose=1, epochs=32)"
      ],
      "execution_count": 32,
      "outputs": [
        {
          "output_type": "stream",
          "name": "stdout",
          "text": [
            "Epoch 1/32\n",
            "2523/2523 [==============================] - 8s 3ms/step - loss: 540.1204 - val_loss: 310.3044\n",
            "Epoch 2/32\n",
            "2523/2523 [==============================] - 7s 3ms/step - loss: 307.2419 - val_loss: 306.4394\n",
            "Epoch 3/32\n",
            "2523/2523 [==============================] - 9s 4ms/step - loss: 306.0053 - val_loss: 306.7449\n",
            "Epoch 4/32\n",
            "2523/2523 [==============================] - 6s 2ms/step - loss: 305.8461 - val_loss: 306.5855\n",
            "Epoch 5/32\n",
            "2523/2523 [==============================] - 7s 3ms/step - loss: 305.8026 - val_loss: 306.6138\n",
            "Epoch 6/32\n",
            "2523/2523 [==============================] - 6s 2ms/step - loss: 305.7204 - val_loss: 306.2265\n",
            "Epoch 7/32\n",
            "2523/2523 [==============================] - 8s 3ms/step - loss: 305.4932 - val_loss: 305.9852\n",
            "Epoch 8/32\n",
            "2523/2523 [==============================] - 7s 3ms/step - loss: 305.5469 - val_loss: 306.4074\n",
            "Epoch 9/32\n",
            "2523/2523 [==============================] - 7s 3ms/step - loss: 305.4271 - val_loss: 305.8597\n",
            "Epoch 10/32\n",
            "2523/2523 [==============================] - 7s 3ms/step - loss: 305.4723 - val_loss: 305.6886\n",
            "Epoch 11/32\n",
            "2523/2523 [==============================] - 7s 3ms/step - loss: 305.3844 - val_loss: 306.8467\n",
            "Epoch 12/32\n",
            "2523/2523 [==============================] - 9s 4ms/step - loss: 305.3723 - val_loss: 305.4594\n",
            "Epoch 13/32\n",
            "2523/2523 [==============================] - 7s 3ms/step - loss: 305.2326 - val_loss: 306.3571\n",
            "Epoch 14/32\n",
            "2523/2523 [==============================] - 8s 3ms/step - loss: 305.3093 - val_loss: 306.2793\n",
            "Epoch 15/32\n",
            "2523/2523 [==============================] - 6s 2ms/step - loss: 305.2899 - val_loss: 306.1527\n",
            "Epoch 16/32\n",
            "2523/2523 [==============================] - 7s 3ms/step - loss: 305.2285 - val_loss: 306.4068\n",
            "Epoch 17/32\n",
            "2523/2523 [==============================] - 7s 3ms/step - loss: 305.2409 - val_loss: 305.5007\n",
            "Epoch 18/32\n",
            "2523/2523 [==============================] - 8s 3ms/step - loss: 305.2592 - val_loss: 307.0833\n",
            "Epoch 19/32\n",
            "2523/2523 [==============================] - 7s 3ms/step - loss: 305.1453 - val_loss: 305.5450\n",
            "Epoch 20/32\n",
            "2523/2523 [==============================] - 6s 3ms/step - loss: 305.1648 - val_loss: 306.0288\n",
            "Epoch 21/32\n",
            "2523/2523 [==============================] - 7s 3ms/step - loss: 305.2277 - val_loss: 307.7413\n",
            "Epoch 22/32\n",
            "2523/2523 [==============================] - 6s 2ms/step - loss: 305.2989 - val_loss: 305.4408\n",
            "Epoch 23/32\n",
            "2523/2523 [==============================] - 8s 3ms/step - loss: 305.2741 - val_loss: 305.7726\n",
            "Epoch 24/32\n",
            "2523/2523 [==============================] - 7s 3ms/step - loss: 305.1682 - val_loss: 305.9204\n",
            "Epoch 25/32\n",
            "2523/2523 [==============================] - 8s 3ms/step - loss: 305.2335 - val_loss: 306.7903\n",
            "Epoch 26/32\n",
            "2523/2523 [==============================] - 7s 3ms/step - loss: 305.1368 - val_loss: 305.3330\n",
            "Epoch 27/32\n",
            "2523/2523 [==============================] - 7s 3ms/step - loss: 305.0975 - val_loss: 305.2817\n",
            "Epoch 28/32\n",
            "2523/2523 [==============================] - 6s 2ms/step - loss: 305.1603 - val_loss: 305.5634\n",
            "Epoch 29/32\n",
            "2523/2523 [==============================] - 7s 3ms/step - loss: 305.1652 - val_loss: 305.6848\n",
            "Epoch 30/32\n",
            "2523/2523 [==============================] - 6s 2ms/step - loss: 305.0739 - val_loss: 306.4791\n",
            "Epoch 31/32\n",
            "2523/2523 [==============================] - 7s 3ms/step - loss: 305.1174 - val_loss: 305.7102\n",
            "Epoch 32/32\n",
            "2523/2523 [==============================] - 7s 3ms/step - loss: 305.0881 - val_loss: 305.6772\n",
            "CPU times: user 3min 48s, sys: 11.6 s, total: 4min\n",
            "Wall time: 3min 47s\n"
          ]
        }
      ]
    },
    {
      "cell_type": "code",
      "source": [
        "%%time\n",
        "history = dnn_model.fit(\n",
        "    train_features, train_labels,\n",
        "    validation_split=0.2,\n",
        "    verbose=1, epochs=0)"
      ],
      "metadata": {
        "id": "QHlfTHh9u3Z6",
        "colab": {
          "base_uri": "https://localhost:8080/"
        },
        "outputId": "070dfc0c-6e21-4020-a395-1893e962b7ee"
      },
      "execution_count": 33,
      "outputs": [
        {
          "output_type": "stream",
          "name": "stdout",
          "text": [
            "CPU times: user 87.3 ms, sys: 7.03 ms, total: 94.3 ms\n",
            "Wall time: 96.2 ms\n"
          ]
        }
      ]
    },
    {
      "cell_type": "code",
      "metadata": {
        "id": "Sj4ILEYiCplW",
        "colab": {
          "base_uri": "https://localhost:8080/",
          "height": 472
        },
        "outputId": "81c2297a-e318-4b78-ed25-abea7c40ddf3"
      },
      "source": [
        "test_predictions = dnn_model.predict(test_features).flatten()\n",
        "\n",
        "a = plt.axes(aspect='equal')\n",
        "plt.scatter(test_labels, test_predictions)\n",
        "plt.xlabel('True Values [PriceUSD]')\n",
        "plt.ylabel('Predictions [PriceUSD]')\n",
        "lims = [0, 50]\n",
        "plt.xlim(lims)\n",
        "plt.ylim(lims)\n",
        "_ = plt.plot(lims, lims)"
      ],
      "execution_count": 35,
      "outputs": [
        {
          "output_type": "stream",
          "name": "stdout",
          "text": [
            "789/789 [==============================] - 5s 6ms/step\n"
          ]
        },
        {
          "output_type": "display_data",
          "data": {
            "text/plain": [
              "<Figure size 640x480 with 1 Axes>"
            ],
            "image/png": "[encoded data removed]"
          },
          "metadata": {}
        }
      ]
    },
    {
      "cell_type": "code",
      "metadata": {
        "id": "MlEGGb5Z5Re0",
        "colab": {
          "base_uri": "https://localhost:8080/"
        },
        "outputId": "75a5faf6-ee61-4be8-a7e0-f2358d6f0815"
      },
      "source": [
        "test_predictions = dnn_model.predict(test_features).flatten()"
      ],
      "execution_count": 36,
      "outputs": [
        {
          "output_type": "stream",
          "name": "stdout",
          "text": [
            "789/789 [==============================] - 1s 2ms/step\n"
          ]
        }
      ]
    },
    {
      "cell_type": "code",
      "metadata": {
        "id": "B6RZVlWq15-d"
      },
      "source": [
        "test_results['dnn_model'] = dnn_model.evaluate(test_features, test_labels, verbose=0)"
      ],
      "execution_count": 37,
      "outputs": []
    },
    {
      "cell_type": "code",
      "metadata": {
        "id": "Q6t4bb2s5wtr",
        "colab": {
          "base_uri": "https://localhost:8080/",
          "height": 175
        },
        "outputId": "979d92f4-7ca2-4c5d-d621-57191aed0b52"
      },
      "source": [
        "pd.DataFrame(test_results, index=['Mean absolute error [PriceUSD]']).T"
      ],
      "execution_count": 38,
      "outputs": [
        {
          "output_type": "execute_result",
          "data": {
            "text/plain": [
              "               Mean absolute error [PriceUSD]\n",
              "Age_model                         1123.065674\n",
              "linear_model                       308.809326\n",
              "dnn_Age_model                     1123.239380\n",
              "dnn_model                          305.882416"
            ],
            "text/html": [
              "\n",
              "  <div id=\"df-99e2d232-b2bd-4a76-b90f-260dd5cacdde\">\n",
              "    <div class=\"colab-df-container\">\n",
              "      <div>\n",
              "<style scoped>\n",
              "    .dataframe tbody tr th:only-of-type {\n",
              "        vertical-align: middle;\n",
              "    }\n",
              "\n",
              "    .dataframe tbody tr th {\n",
              "        vertical-align: top;\n",
              "    }\n",
              "\n",
              "    .dataframe thead th {\n",
              "        text-align: right;\n",
              "    }\n",
              "</style>\n",
              "<table border=\"1\" class=\"dataframe\">\n",
              "  <thead>\n",
              "    <tr style=\"text-align: right;\">\n",
              "      <th></th>\n",
              "      <th>Mean absolute error [PriceUSD]</th>\n",
              "    </tr>\n",
              "  </thead>\n",
              "  <tbody>\n",
              "    <tr>\n",
              "      <th>Age_model</th>\n",
              "      <td>1123.065674</td>\n",
              "    </tr>\n",
              "    <tr>\n",
              "      <th>linear_model</th>\n",
              "      <td>308.809326</td>\n",
              "    </tr>\n",
              "    <tr>\n",
              "      <th>dnn_Age_model</th>\n",
              "      <td>1123.239380</td>\n",
              "    </tr>\n",
              "    <tr>\n",
              "      <th>dnn_model</th>\n",
              "      <td>305.882416</td>\n",
              "    </tr>\n",
              "  </tbody>\n",
              "</table>\n",
              "</div>\n",
              "      <button class=\"colab-df-convert\" onclick=\"convertToInteractive('df-99e2d232-b2bd-4a76-b90f-260dd5cacdde')\"\n",
              "              title=\"Convert this dataframe to an interactive table.\"\n",
              "              style=\"display:none;\">\n",
              "        \n",
              "  <svg xmlns=\"http://www.w3.org/2000/svg\" height=\"24px\"viewBox=\"0 0 24 24\"\n",
              "       width=\"24px\">\n",
              "    <path d=\"M0 0h24v24H0V0z\" fill=\"none\"/>\n",
              "    <path d=\"M18.56 5.44l.94 2.06.94-2.06 2.06-.94-2.06-.94-.94-2.06-.94 2.06-2.06.94zm-11 1L8.5 8.5l.94-2.06 2.06-.94-2.06-.94L8.5 2.5l-.94 2.06-2.06.94zm10 10l.94 2.06.94-2.06 2.06-.94-2.06-.94-.94-2.06-.94 2.06-2.06.94z\"/><path d=\"M17.41 7.96l-1.37-1.37c-.4-.4-.92-.59-1.43-.59-.52 0-1.04.2-1.43.59L10.3 9.45l-7.72 7.72c-.78.78-.78 2.05 0 2.83L4 21.41c.39.39.9.59 1.41.59.51 0 1.02-.2 1.41-.59l7.78-7.78 2.81-2.81c.8-.78.8-2.07 0-2.86zM5.41 20L4 18.59l7.72-7.72 1.47 1.35L5.41 20z\"/>\n",
              "  </svg>\n",
              "      </button>\n",
              "      \n",
              "  <style>\n",
              "    .colab-df-container {\n",
              "      display:flex;\n",
              "      flex-wrap:wrap;\n",
              "      gap: 12px;\n",
              "    }\n",
              "\n",
              "    .colab-df-convert {\n",
              "      background-color: #E8F0FE;\n",
              "      border: none;\n",
              "      border-radius: 50%;\n",
              "      cursor: pointer;\n",
              "      display: none;\n",
              "      fill: #1967D2;\n",
              "      height: 32px;\n",
              "      padding: 0 0 0 0;\n",
              "      width: 32px;\n",
              "    }\n",
              "\n",
              "    .colab-df-convert:hover {\n",
              "      background-color: #E2EBFA;\n",
              "      box-shadow: 0px 1px 2px rgba(60, 64, 67, 0.3), 0px 1px 3px 1px rgba(60, 64, 67, 0.15);\n",
              "      fill: #174EA6;\n",
              "    }\n",
              "\n",
              "    [theme=dark] .colab-df-convert {\n",
              "      background-color: #3B4455;\n",
              "      fill: #D2E3FC;\n",
              "    }\n",
              "\n",
              "    [theme=dark] .colab-df-convert:hover {\n",
              "      background-color: #434B5C;\n",
              "      box-shadow: 0px 1px 3px 1px rgba(0, 0, 0, 0.15);\n",
              "      filter: drop-shadow(0px 1px 2px rgba(0, 0, 0, 0.3));\n",
              "      fill: #FFFFFF;\n",
              "    }\n",
              "  </style>\n",
              "\n",
              "      <script>\n",
              "        const buttonEl =\n",
              "          document.querySelector('#df-99e2d232-b2bd-4a76-b90f-260dd5cacdde button.colab-df-convert');\n",
              "        buttonEl.style.display =\n",
              "          google.colab.kernel.accessAllowed ? 'block' : 'none';\n",
              "\n",
              "        async function convertToInteractive(key) {\n",
              "          const element = document.querySelector('#df-99e2d232-b2bd-4a76-b90f-260dd5cacdde');\n",
              "          const dataTable =\n",
              "            await google.colab.kernel.invokeFunction('convertToInteractive',\n",
              "                                                     [key], {});\n",
              "          if (!dataTable) return;\n",
              "\n",
              "          const docLinkHtml = 'Like what you see? Visit the ' +\n",
              "            '<a target=\"_blank\" href=https://colab.research.google.com/notebooks/data_table.ipynb>data table notebook</a>'\n",
              "            + ' to learn more about interactive tables.';\n",
              "          element.innerHTML = '';\n",
              "          dataTable['output_type'] = 'display_data';\n",
              "          await google.colab.output.renderOutput(dataTable, element);\n",
              "          const docLink = document.createElement('div');\n",
              "          docLink.innerHTML = docLinkHtml;\n",
              "          element.appendChild(docLink);\n",
              "        }\n",
              "      </script>\n",
              "    </div>\n",
              "  </div>\n",
              "  "
            ]
          },
          "metadata": {},
          "execution_count": 38
        }
      ]
    }
  ]
}