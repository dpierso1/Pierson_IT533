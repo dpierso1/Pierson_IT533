{
  "nbformat": 4,
  "nbformat_minor": 0,
  "metadata": {
    "colab": {
      "provenance": [],
      "authorship_tag": "ABX9TyOshxO17Ho1lpkPBBJxJas+",
      "include_colab_link": true
    },
    "kernelspec": {
      "name": "python3",
      "display_name": "Python 3"
    },
    "language_info": {
      "name": "python"
    }
  },
  "cells": [
    {
      "cell_type": "markdown",
      "metadata": {
        "id": "view-in-github",
        "colab_type": "text"
      },
      "source": [
        "<a href=\"https://colab.research.google.com/github/dpierso1/Pierson_IT533/blob/main/Week_4_Lab.ipynb\" target=\"_parent\"><img src=\"https://colab.research.google.com/assets/colab-badge.svg\" alt=\"Open In Colab\"/></a>"
      ]
    },
    {
      "cell_type": "code",
      "execution_count": 1,
      "metadata": {
        "id": "0hfb50Tu8g1P"
      },
      "outputs": [],
      "source": [
        "import numpy as np\n",
        "import pandas as pd \n",
        "import matplotlib.pyplot as plt\n",
        "import math\n",
        "from math import acos, degrees\n",
        "from sklearn import preprocessing\n",
        "from sklearn import linear_model  \n",
        "from scipy import spatial\n",
        "from scipy.stats import chisquare\n",
        "from scipy.stats import chi2_contingency\n",
        "from sklearn.metrics.pairwise import cosine_similarity"
      ]
    },
    {
      "cell_type": "code",
      "source": [
        "airline = pd.read_csv(\"https://raw.githubusercontent.com/dpierso1/Pierson_IT533/main/airline_passenger_satisfaction.csv\", encoding=\"ISO-8859-1\")"
      ],
      "metadata": {
        "id": "aTK5zqey8voW"
      },
      "execution_count": 2,
      "outputs": []
    },
    {
      "cell_type": "code",
      "source": [
        "airline.dropna(inplace=True)\n",
        "airline.head()"
      ],
      "metadata": {
        "colab": {
          "base_uri": "https://localhost:8080/",
          "height": 334
        },
        "id": "pruvaV8u9AP1",
        "outputId": "661b35af-54f0-4784-e009-553627a8816a"
      },
      "execution_count": 20,
      "outputs": [
        {
          "output_type": "execute_result",
          "data": {
            "text/plain": [
              "   ID  Gender  Age CustomerType TypeOfTravel     Class  FlightDistance  \\\n",
              "0   1    Male   48   First-time     Business  Business             821   \n",
              "1   2  Female   35    Returning     Business  Business             821   \n",
              "2   3    Male   41    Returning     Business  Business             853   \n",
              "3   4    Male   50    Returning     Business  Business            1905   \n",
              "4   5  Female   49    Returning     Business  Business            3470   \n",
              "\n",
              "   DepartureDelay  ArrivalDelay  EaseOfOnlineBooking  ...  On-boardService  \\\n",
              "0               2           5.0                    3  ...                3   \n",
              "1              26          39.0                    2  ...                5   \n",
              "2               0           0.0                    4  ...                3   \n",
              "3               0           0.0                    2  ...                5   \n",
              "4               0           1.0                    3  ...                3   \n",
              "\n",
              "   SeatComfort  LegRoom  Cleanliness  FoodAndDrink  In-flightWifi  \\\n",
              "0            5        2            5             5              3   \n",
              "1            4        5            5             3              2   \n",
              "2            5        3            5             5              4   \n",
              "3            5        5            4             4              2   \n",
              "4            4        4            5             4              3   \n",
              "\n",
              "   In-flightEntertainment  BaggageHandling  PriceUSD             Satisfaction  \n",
              "0                       5                5   1053.59  Neutral or Dissatisfied  \n",
              "1                       5                5   1051.94                Satisfied  \n",
              "2                       3                3   1627.35                Satisfied  \n",
              "3                       5                5   2520.45                Satisfied  \n",
              "4                       3                3   6048.50                Satisfied  \n",
              "\n",
              "[5 rows x 22 columns]"
            ],
            "text/html": [
              "\n",
              "  <div id=\"df-e8ebd612-8df3-44ed-8892-57f3be3a69e8\">\n",
              "    <div class=\"colab-df-container\">\n",
              "      <div>\n",
              "<style scoped>\n",
              "    .dataframe tbody tr th:only-of-type {\n",
              "        vertical-align: middle;\n",
              "    }\n",
              "\n",
              "    .dataframe tbody tr th {\n",
              "        vertical-align: top;\n",
              "    }\n",
              "\n",
              "    .dataframe thead th {\n",
              "        text-align: right;\n",
              "    }\n",
              "</style>\n",
              "<table border=\"1\" class=\"dataframe\">\n",
              "  <thead>\n",
              "    <tr style=\"text-align: right;\">\n",
              "      <th></th>\n",
              "      <th>ID</th>\n",
              "      <th>Gender</th>\n",
              "      <th>Age</th>\n",
              "      <th>CustomerType</th>\n",
              "      <th>TypeOfTravel</th>\n",
              "      <th>Class</th>\n",
              "      <th>FlightDistance</th>\n",
              "      <th>DepartureDelay</th>\n",
              "      <th>ArrivalDelay</th>\n",
              "      <th>EaseOfOnlineBooking</th>\n",
              "      <th>...</th>\n",
              "      <th>On-boardService</th>\n",
              "      <th>SeatComfort</th>\n",
              "      <th>LegRoom</th>\n",
              "      <th>Cleanliness</th>\n",
              "      <th>FoodAndDrink</th>\n",
              "      <th>In-flightWifi</th>\n",
              "      <th>In-flightEntertainment</th>\n",
              "      <th>BaggageHandling</th>\n",
              "      <th>PriceUSD</th>\n",
              "      <th>Satisfaction</th>\n",
              "    </tr>\n",
              "  </thead>\n",
              "  <tbody>\n",
              "    <tr>\n",
              "      <th>0</th>\n",
              "      <td>1</td>\n",
              "      <td>Male</td>\n",
              "      <td>48</td>\n",
              "      <td>First-time</td>\n",
              "      <td>Business</td>\n",
              "      <td>Business</td>\n",
              "      <td>821</td>\n",
              "      <td>2</td>\n",
              "      <td>5.0</td>\n",
              "      <td>3</td>\n",
              "      <td>...</td>\n",
              "      <td>3</td>\n",
              "      <td>5</td>\n",
              "      <td>2</td>\n",
              "      <td>5</td>\n",
              "      <td>5</td>\n",
              "      <td>3</td>\n",
              "      <td>5</td>\n",
              "      <td>5</td>\n",
              "      <td>1053.59</td>\n",
              "      <td>Neutral or Dissatisfied</td>\n",
              "    </tr>\n",
              "    <tr>\n",
              "      <th>1</th>\n",
              "      <td>2</td>\n",
              "      <td>Female</td>\n",
              "      <td>35</td>\n",
              "      <td>Returning</td>\n",
              "      <td>Business</td>\n",
              "      <td>Business</td>\n",
              "      <td>821</td>\n",
              "      <td>26</td>\n",
              "      <td>39.0</td>\n",
              "      <td>2</td>\n",
              "      <td>...</td>\n",
              "      <td>5</td>\n",
              "      <td>4</td>\n",
              "      <td>5</td>\n",
              "      <td>5</td>\n",
              "      <td>3</td>\n",
              "      <td>2</td>\n",
              "      <td>5</td>\n",
              "      <td>5</td>\n",
              "      <td>1051.94</td>\n",
              "      <td>Satisfied</td>\n",
              "    </tr>\n",
              "    <tr>\n",
              "      <th>2</th>\n",
              "      <td>3</td>\n",
              "      <td>Male</td>\n",
              "      <td>41</td>\n",
              "      <td>Returning</td>\n",
              "      <td>Business</td>\n",
              "      <td>Business</td>\n",
              "      <td>853</td>\n",
              "      <td>0</td>\n",
              "      <td>0.0</td>\n",
              "      <td>4</td>\n",
              "      <td>...</td>\n",
              "      <td>3</td>\n",
              "      <td>5</td>\n",
              "      <td>3</td>\n",
              "      <td>5</td>\n",
              "      <td>5</td>\n",
              "      <td>4</td>\n",
              "      <td>3</td>\n",
              "      <td>3</td>\n",
              "      <td>1627.35</td>\n",
              "      <td>Satisfied</td>\n",
              "    </tr>\n",
              "    <tr>\n",
              "      <th>3</th>\n",
              "      <td>4</td>\n",
              "      <td>Male</td>\n",
              "      <td>50</td>\n",
              "      <td>Returning</td>\n",
              "      <td>Business</td>\n",
              "      <td>Business</td>\n",
              "      <td>1905</td>\n",
              "      <td>0</td>\n",
              "      <td>0.0</td>\n",
              "      <td>2</td>\n",
              "      <td>...</td>\n",
              "      <td>5</td>\n",
              "      <td>5</td>\n",
              "      <td>5</td>\n",
              "      <td>4</td>\n",
              "      <td>4</td>\n",
              "      <td>2</td>\n",
              "      <td>5</td>\n",
              "      <td>5</td>\n",
              "      <td>2520.45</td>\n",
              "      <td>Satisfied</td>\n",
              "    </tr>\n",
              "    <tr>\n",
              "      <th>4</th>\n",
              "      <td>5</td>\n",
              "      <td>Female</td>\n",
              "      <td>49</td>\n",
              "      <td>Returning</td>\n",
              "      <td>Business</td>\n",
              "      <td>Business</td>\n",
              "      <td>3470</td>\n",
              "      <td>0</td>\n",
              "      <td>1.0</td>\n",
              "      <td>3</td>\n",
              "      <td>...</td>\n",
              "      <td>3</td>\n",
              "      <td>4</td>\n",
              "      <td>4</td>\n",
              "      <td>5</td>\n",
              "      <td>4</td>\n",
              "      <td>3</td>\n",
              "      <td>3</td>\n",
              "      <td>3</td>\n",
              "      <td>6048.50</td>\n",
              "      <td>Satisfied</td>\n",
              "    </tr>\n",
              "  </tbody>\n",
              "</table>\n",
              "<p>5 rows × 22 columns</p>\n",
              "</div>\n",
              "      <button class=\"colab-df-convert\" onclick=\"convertToInteractive('df-e8ebd612-8df3-44ed-8892-57f3be3a69e8')\"\n",
              "              title=\"Convert this dataframe to an interactive table.\"\n",
              "              style=\"display:none;\">\n",
              "        \n",
              "  <svg xmlns=\"http://www.w3.org/2000/svg\" height=\"24px\"viewBox=\"0 0 24 24\"\n",
              "       width=\"24px\">\n",
              "    <path d=\"M0 0h24v24H0V0z\" fill=\"none\"/>\n",
              "    <path d=\"M18.56 5.44l.94 2.06.94-2.06 2.06-.94-2.06-.94-.94-2.06-.94 2.06-2.06.94zm-11 1L8.5 8.5l.94-2.06 2.06-.94-2.06-.94L8.5 2.5l-.94 2.06-2.06.94zm10 10l.94 2.06.94-2.06 2.06-.94-2.06-.94-.94-2.06-.94 2.06-2.06.94z\"/><path d=\"M17.41 7.96l-1.37-1.37c-.4-.4-.92-.59-1.43-.59-.52 0-1.04.2-1.43.59L10.3 9.45l-7.72 7.72c-.78.78-.78 2.05 0 2.83L4 21.41c.39.39.9.59 1.41.59.51 0 1.02-.2 1.41-.59l7.78-7.78 2.81-2.81c.8-.78.8-2.07 0-2.86zM5.41 20L4 18.59l7.72-7.72 1.47 1.35L5.41 20z\"/>\n",
              "  </svg>\n",
              "      </button>\n",
              "      \n",
              "  <style>\n",
              "    .colab-df-container {\n",
              "      display:flex;\n",
              "      flex-wrap:wrap;\n",
              "      gap: 12px;\n",
              "    }\n",
              "\n",
              "    .colab-df-convert {\n",
              "      background-color: #E8F0FE;\n",
              "      border: none;\n",
              "      border-radius: 50%;\n",
              "      cursor: pointer;\n",
              "      display: none;\n",
              "      fill: #1967D2;\n",
              "      height: 32px;\n",
              "      padding: 0 0 0 0;\n",
              "      width: 32px;\n",
              "    }\n",
              "\n",
              "    .colab-df-convert:hover {\n",
              "      background-color: #E2EBFA;\n",
              "      box-shadow: 0px 1px 2px rgba(60, 64, 67, 0.3), 0px 1px 3px 1px rgba(60, 64, 67, 0.15);\n",
              "      fill: #174EA6;\n",
              "    }\n",
              "\n",
              "    [theme=dark] .colab-df-convert {\n",
              "      background-color: #3B4455;\n",
              "      fill: #D2E3FC;\n",
              "    }\n",
              "\n",
              "    [theme=dark] .colab-df-convert:hover {\n",
              "      background-color: #434B5C;\n",
              "      box-shadow: 0px 1px 3px 1px rgba(0, 0, 0, 0.15);\n",
              "      filter: drop-shadow(0px 1px 2px rgba(0, 0, 0, 0.3));\n",
              "      fill: #FFFFFF;\n",
              "    }\n",
              "  </style>\n",
              "\n",
              "      <script>\n",
              "        const buttonEl =\n",
              "          document.querySelector('#df-e8ebd612-8df3-44ed-8892-57f3be3a69e8 button.colab-df-convert');\n",
              "        buttonEl.style.display =\n",
              "          google.colab.kernel.accessAllowed ? 'block' : 'none';\n",
              "\n",
              "        async function convertToInteractive(key) {\n",
              "          const element = document.querySelector('#df-e8ebd612-8df3-44ed-8892-57f3be3a69e8');\n",
              "          const dataTable =\n",
              "            await google.colab.kernel.invokeFunction('convertToInteractive',\n",
              "                                                     [key], {});\n",
              "          if (!dataTable) return;\n",
              "\n",
              "          const docLinkHtml = 'Like what you see? Visit the ' +\n",
              "            '<a target=\"_blank\" href=https://colab.research.google.com/notebooks/data_table.ipynb>data table notebook</a>'\n",
              "            + ' to learn more about interactive tables.';\n",
              "          element.innerHTML = '';\n",
              "          dataTable['output_type'] = 'display_data';\n",
              "          await google.colab.output.renderOutput(dataTable, element);\n",
              "          const docLink = document.createElement('div');\n",
              "          docLink.innerHTML = docLinkHtml;\n",
              "          element.appendChild(docLink);\n",
              "        }\n",
              "      </script>\n",
              "    </div>\n",
              "  </div>\n",
              "  "
            ]
          },
          "metadata": {},
          "execution_count": 20
        }
      ]
    },
    {
      "cell_type": "markdown",
      "source": [
        "Question 1. Cosine Similarity"
      ],
      "metadata": {
        "id": "RKZzaVz19G_2"
      }
    },
    {
      "cell_type": "code",
      "source": [
        "a = np.array(airline.PriceUSD)\n",
        "b = np.array(airline.FlightDistance)\n",
        "\n",
        "dot = np.dot(a, b)\n",
        "norma = np.linalg.norm(a)\n",
        "normb = np.linalg.norm(b)\n",
        "cos1 = dot / (norma * normb)\n",
        "\n",
        "angle_in_radians1 = math.acos(cos1)\n",
        "degrees1 = math.degrees(angle_in_radians1)\n",
        "\n",
        "print(cos1, angle_in_radians1, degrees1)"
      ],
      "metadata": {
        "colab": {
          "base_uri": "https://localhost:8080/"
        },
        "id": "_DBFU8VD9NTN",
        "outputId": "a7f2b418-c12a-4d26-fc34-07cc670e3f0a"
      },
      "execution_count": 6,
      "outputs": [
        {
          "output_type": "stream",
          "name": "stdout",
          "text": [
            "0.9787176785005798 0.20667966717573208 11.841872640337984\n"
          ]
        }
      ]
    },
    {
      "cell_type": "code",
      "source": [
        "aa = a.reshape(1,32561)\n",
        "bb = b.reshape(1,32561)\n",
        "cos1 = cosine_similarity(aa, bb)\n",
        "\n",
        "angle_in_radians1 = math.acos(cos1)\n",
        "degrees1 = math.degrees(angle_in_radians1)\n",
        "\n",
        "print(cos1, angle_in_radians1, degrees1)"
      ],
      "metadata": {
        "colab": {
          "base_uri": "https://localhost:8080/",
          "height": 235
        },
        "id": "oaukVaHcAoI9",
        "outputId": "191349c9-2f31-4035-c675-3146c1d64b6a"
      },
      "execution_count": 13,
      "outputs": [
        {
          "output_type": "error",
          "ename": "ValueError",
          "evalue": "ignored",
          "traceback": [
            "\u001b[0;31m---------------------------------------------------------------------------\u001b[0m",
            "\u001b[0;31mValueError\u001b[0m                                Traceback (most recent call last)",
            "\u001b[0;32m<ipython-input-13-8feac5301eeb>\u001b[0m in \u001b[0;36m<module>\u001b[0;34m\u001b[0m\n\u001b[0;32m----> 1\u001b[0;31m \u001b[0maa\u001b[0m \u001b[0;34m=\u001b[0m \u001b[0ma\u001b[0m\u001b[0;34m.\u001b[0m\u001b[0mreshape\u001b[0m\u001b[0;34m(\u001b[0m\u001b[0;36m1\u001b[0m\u001b[0;34m,\u001b[0m\u001b[0;36m32561\u001b[0m\u001b[0;34m)\u001b[0m\u001b[0;34m\u001b[0m\u001b[0;34m\u001b[0m\u001b[0m\n\u001b[0m\u001b[1;32m      2\u001b[0m \u001b[0mbb\u001b[0m \u001b[0;34m=\u001b[0m \u001b[0mb\u001b[0m\u001b[0;34m.\u001b[0m\u001b[0mreshape\u001b[0m\u001b[0;34m(\u001b[0m\u001b[0;36m1\u001b[0m\u001b[0;34m,\u001b[0m\u001b[0;36m32561\u001b[0m\u001b[0;34m)\u001b[0m\u001b[0;34m\u001b[0m\u001b[0;34m\u001b[0m\u001b[0m\n\u001b[1;32m      3\u001b[0m \u001b[0mcos1\u001b[0m \u001b[0;34m=\u001b[0m \u001b[0mcosine_similarity\u001b[0m\u001b[0;34m(\u001b[0m\u001b[0maa\u001b[0m\u001b[0;34m,\u001b[0m \u001b[0mbb\u001b[0m\u001b[0;34m)\u001b[0m\u001b[0;34m\u001b[0m\u001b[0;34m\u001b[0m\u001b[0m\n\u001b[1;32m      4\u001b[0m \u001b[0;34m\u001b[0m\u001b[0m\n\u001b[1;32m      5\u001b[0m \u001b[0mangle_in_radians1\u001b[0m \u001b[0;34m=\u001b[0m \u001b[0mmath\u001b[0m\u001b[0;34m.\u001b[0m\u001b[0macos\u001b[0m\u001b[0;34m(\u001b[0m\u001b[0mcos1\u001b[0m\u001b[0;34m)\u001b[0m\u001b[0;34m\u001b[0m\u001b[0;34m\u001b[0m\u001b[0m\n",
            "\u001b[0;31mValueError\u001b[0m: cannot reshape array of size 125743 into shape (1,32561)"
          ]
        }
      ]
    },
    {
      "cell_type": "code",
      "metadata": {
        "id": "MN9-my85n0Ze",
        "colab": {
          "base_uri": "https://localhost:8080/"
        },
        "outputId": "e48337f0-fec5-41c8-c84f-0ba0068e5419"
      },
      "source": [
        "#Spatial Package\n",
        "\n",
        "a = np.array(airline.PriceUSD)\n",
        "b = np.array(airline.FlightDistance)\n",
        "\n",
        "result = 1 - spatial.distance.cosine(a, b)\n",
        "\n",
        "\n",
        "angle_in_radians = math.acos(result)\n",
        "degrees = math.degrees(angle_in_radians)\n",
        "\n",
        "print(result, degrees, angle_in_radians)"
      ],
      "execution_count": 12,
      "outputs": [
        {
          "output_type": "stream",
          "name": "stdout",
          "text": [
            "0.9787176785005797 11.841872640338014 0.20667966717573263\n"
          ]
        }
      ]
    },
    {
      "cell_type": "code",
      "source": [
        "a = np.array(airline.FlightDistance)\n",
        "b = np.array(airline.OnlineBoarding)\n",
        "\n",
        "dot = np.dot(a, b)\n",
        "norma = np.linalg.norm(a)\n",
        "normb = np.linalg.norm(b)\n",
        "cos1 = dot / (norma * normb)\n",
        "\n",
        "angle_in_radians1 = math.acos(cos1)\n",
        "degrees1 = math.degrees(angle_in_radians1)\n",
        "\n",
        "print(cos1, angle_in_radians1, degrees1)"
      ],
      "metadata": {
        "colab": {
          "base_uri": "https://localhost:8080/"
        },
        "outputId": "4f0e10e7-b023-42fe-f2ad-23f09e0936df",
        "id": "E0lmVwSHCjKs"
      },
      "execution_count": 14,
      "outputs": [
        {
          "output_type": "stream",
          "name": "stdout",
          "text": [
            "0.7590920796931524 0.7088790388756062 40.615777112862446\n"
          ]
        }
      ]
    },
    {
      "cell_type": "code",
      "source": [
        "aa = a.reshape(1,32561)\n",
        "bb = b.reshape(1,32561)\n",
        "cos1 = cosine_similarity(aa, bb)\n",
        "\n",
        "angle_in_radians1 = math.acos(cos1)\n",
        "degrees1 = math.degrees(angle_in_radians1)\n",
        "\n",
        "print(cos1, angle_in_radians1, degrees1)"
      ],
      "metadata": {
        "colab": {
          "base_uri": "https://localhost:8080/",
          "height": 235
        },
        "outputId": "0efb826d-7de8-4516-c166-cea03e16ee75",
        "id": "87NS1uw_CshU"
      },
      "execution_count": 15,
      "outputs": [
        {
          "output_type": "error",
          "ename": "ValueError",
          "evalue": "ignored",
          "traceback": [
            "\u001b[0;31m---------------------------------------------------------------------------\u001b[0m",
            "\u001b[0;31mValueError\u001b[0m                                Traceback (most recent call last)",
            "\u001b[0;32m<ipython-input-15-8feac5301eeb>\u001b[0m in \u001b[0;36m<module>\u001b[0;34m\u001b[0m\n\u001b[0;32m----> 1\u001b[0;31m \u001b[0maa\u001b[0m \u001b[0;34m=\u001b[0m \u001b[0ma\u001b[0m\u001b[0;34m.\u001b[0m\u001b[0mreshape\u001b[0m\u001b[0;34m(\u001b[0m\u001b[0;36m1\u001b[0m\u001b[0;34m,\u001b[0m\u001b[0;36m32561\u001b[0m\u001b[0;34m)\u001b[0m\u001b[0;34m\u001b[0m\u001b[0;34m\u001b[0m\u001b[0m\n\u001b[0m\u001b[1;32m      2\u001b[0m \u001b[0mbb\u001b[0m \u001b[0;34m=\u001b[0m \u001b[0mb\u001b[0m\u001b[0;34m.\u001b[0m\u001b[0mreshape\u001b[0m\u001b[0;34m(\u001b[0m\u001b[0;36m1\u001b[0m\u001b[0;34m,\u001b[0m\u001b[0;36m32561\u001b[0m\u001b[0;34m)\u001b[0m\u001b[0;34m\u001b[0m\u001b[0;34m\u001b[0m\u001b[0m\n\u001b[1;32m      3\u001b[0m \u001b[0mcos1\u001b[0m \u001b[0;34m=\u001b[0m \u001b[0mcosine_similarity\u001b[0m\u001b[0;34m(\u001b[0m\u001b[0maa\u001b[0m\u001b[0;34m,\u001b[0m \u001b[0mbb\u001b[0m\u001b[0;34m)\u001b[0m\u001b[0;34m\u001b[0m\u001b[0;34m\u001b[0m\u001b[0m\n\u001b[1;32m      4\u001b[0m \u001b[0;34m\u001b[0m\u001b[0m\n\u001b[1;32m      5\u001b[0m \u001b[0mangle_in_radians1\u001b[0m \u001b[0;34m=\u001b[0m \u001b[0mmath\u001b[0m\u001b[0;34m.\u001b[0m\u001b[0macos\u001b[0m\u001b[0;34m(\u001b[0m\u001b[0mcos1\u001b[0m\u001b[0;34m)\u001b[0m\u001b[0;34m\u001b[0m\u001b[0;34m\u001b[0m\u001b[0m\n",
            "\u001b[0;31mValueError\u001b[0m: cannot reshape array of size 125743 into shape (1,32561)"
          ]
        }
      ]
    },
    {
      "cell_type": "code",
      "metadata": {
        "colab": {
          "base_uri": "https://localhost:8080/"
        },
        "outputId": "70f75bd1-48ca-4a5c-a8b7-4c7ea8989bf3",
        "id": "aBoKwDDzCwd7"
      },
      "source": [
        "#Spatial Package\n",
        "\n",
        "a = np.array(airline.FlightDistance)\n",
        "b = np.array(airline.OnlineBoarding)\n",
        "\n",
        "result = 1 - spatial.distance.cosine(a, b)\n",
        "\n",
        "\n",
        "angle_in_radians = math.acos(result)\n",
        "degrees = math.degrees(angle_in_radians)\n",
        "\n",
        "print(result, degrees, angle_in_radians)"
      ],
      "execution_count": 16,
      "outputs": [
        {
          "output_type": "stream",
          "name": "stdout",
          "text": [
            "0.7590920796931524 40.615777112862446 0.7088790388756062\n"
          ]
        }
      ]
    },
    {
      "cell_type": "code",
      "source": [
        "a = np.array(airline.OnlineBoarding)\n",
        "b = np.array(airline.PriceUSD)\n",
        "\n",
        "dot = np.dot(a, b)\n",
        "norma = np.linalg.norm(a)\n",
        "normb = np.linalg.norm(b)\n",
        "cos1 = dot / (norma * normb)\n",
        "\n",
        "angle_in_radians1 = math.acos(cos1)\n",
        "degrees1 = math.degrees(angle_in_radians1)\n",
        "\n",
        "print(cos1, angle_in_radians1, degrees1)"
      ],
      "metadata": {
        "colab": {
          "base_uri": "https://localhost:8080/"
        },
        "outputId": "00ec7fe7-d24c-40c1-a5d6-25bad5e5e481",
        "id": "2Tl_DHN6C49f"
      },
      "execution_count": 17,
      "outputs": [
        {
          "output_type": "stream",
          "name": "stdout",
          "text": [
            "0.7326768531982225 0.7485494450935604 42.88872396072075\n"
          ]
        }
      ]
    },
    {
      "cell_type": "code",
      "source": [
        "aa = a.reshape(1,32561)\n",
        "bb = b.reshape(1,32561)\n",
        "cos1 = cosine_similarity(aa, bb)\n",
        "\n",
        "angle_in_radians1 = math.acos(cos1)\n",
        "degrees1 = math.degrees(angle_in_radians1)\n",
        "\n",
        "print(cos1, angle_in_radians1, degrees1)"
      ],
      "metadata": {
        "colab": {
          "base_uri": "https://localhost:8080/",
          "height": 235
        },
        "outputId": "9ca7d33f-fa8f-45d8-c9a9-3234125e9367",
        "id": "JHhcArbsDGw4"
      },
      "execution_count": 18,
      "outputs": [
        {
          "output_type": "error",
          "ename": "ValueError",
          "evalue": "ignored",
          "traceback": [
            "\u001b[0;31m---------------------------------------------------------------------------\u001b[0m",
            "\u001b[0;31mValueError\u001b[0m                                Traceback (most recent call last)",
            "\u001b[0;32m<ipython-input-18-8feac5301eeb>\u001b[0m in \u001b[0;36m<module>\u001b[0;34m\u001b[0m\n\u001b[0;32m----> 1\u001b[0;31m \u001b[0maa\u001b[0m \u001b[0;34m=\u001b[0m \u001b[0ma\u001b[0m\u001b[0;34m.\u001b[0m\u001b[0mreshape\u001b[0m\u001b[0;34m(\u001b[0m\u001b[0;36m1\u001b[0m\u001b[0;34m,\u001b[0m\u001b[0;36m32561\u001b[0m\u001b[0;34m)\u001b[0m\u001b[0;34m\u001b[0m\u001b[0;34m\u001b[0m\u001b[0m\n\u001b[0m\u001b[1;32m      2\u001b[0m \u001b[0mbb\u001b[0m \u001b[0;34m=\u001b[0m \u001b[0mb\u001b[0m\u001b[0;34m.\u001b[0m\u001b[0mreshape\u001b[0m\u001b[0;34m(\u001b[0m\u001b[0;36m1\u001b[0m\u001b[0;34m,\u001b[0m\u001b[0;36m32561\u001b[0m\u001b[0;34m)\u001b[0m\u001b[0;34m\u001b[0m\u001b[0;34m\u001b[0m\u001b[0m\n\u001b[1;32m      3\u001b[0m \u001b[0mcos1\u001b[0m \u001b[0;34m=\u001b[0m \u001b[0mcosine_similarity\u001b[0m\u001b[0;34m(\u001b[0m\u001b[0maa\u001b[0m\u001b[0;34m,\u001b[0m \u001b[0mbb\u001b[0m\u001b[0;34m)\u001b[0m\u001b[0;34m\u001b[0m\u001b[0;34m\u001b[0m\u001b[0m\n\u001b[1;32m      4\u001b[0m \u001b[0;34m\u001b[0m\u001b[0m\n\u001b[1;32m      5\u001b[0m \u001b[0mangle_in_radians1\u001b[0m \u001b[0;34m=\u001b[0m \u001b[0mmath\u001b[0m\u001b[0;34m.\u001b[0m\u001b[0macos\u001b[0m\u001b[0;34m(\u001b[0m\u001b[0mcos1\u001b[0m\u001b[0;34m)\u001b[0m\u001b[0;34m\u001b[0m\u001b[0;34m\u001b[0m\u001b[0m\n",
            "\u001b[0;31mValueError\u001b[0m: cannot reshape array of size 125743 into shape (1,32561)"
          ]
        }
      ]
    },
    {
      "cell_type": "code",
      "metadata": {
        "colab": {
          "base_uri": "https://localhost:8080/"
        },
        "outputId": "621dac1c-a9ec-43a2-e07f-1797ac850c75",
        "id": "mz9d_DqmDKG8"
      },
      "source": [
        "#Spatial Package\n",
        "\n",
        "a = np.array(airline.OnlineBoarding)\n",
        "b = np.array(airline.PriceUSD)\n",
        "\n",
        "result = 1 - spatial.distance.cosine(a, b)\n",
        "\n",
        "\n",
        "angle_in_radians = math.acos(result)\n",
        "degrees = math.degrees(angle_in_radians)\n",
        "\n",
        "print(result, degrees, angle_in_radians)"
      ],
      "execution_count": 19,
      "outputs": [
        {
          "output_type": "stream",
          "name": "stdout",
          "text": [
            "0.7326768531982226 42.888723960720746 0.7485494450935601\n"
          ]
        }
      ]
    },
    {
      "cell_type": "code",
      "source": [],
      "metadata": {
        "id": "nQJ8wHeEEE9S"
      },
      "execution_count": null,
      "outputs": []
    },
    {
      "cell_type": "markdown",
      "source": [
        "Question 2: Chi Square \n",
        "Airline Attributes for Chi Square must be categorical, these include: Gender, Customer Type, Type of Travel, Class and Satisfaction"
      ],
      "metadata": {
        "id": "0GmSNo3WDQ2c"
      }
    },
    {
      "cell_type": "markdown",
      "source": [
        "Example Attributes: Customer Type and Type of Travel \n",
        "\n",
        "---\n",
        "\n",
        "\n",
        "Ha: These two attributes have a strong relationhsip.\n",
        "H0: These two attributes have no relationship.\n",
        "\n",
        "---\n",
        "\n",
        "\n",
        "\n"
      ],
      "metadata": {
        "id": "FaQSglb2D3CN"
      }
    },
    {
      "cell_type": "code",
      "metadata": {
        "id": "O8bM1wgln0Zl",
        "colab": {
          "base_uri": "https://localhost:8080/"
        },
        "outputId": "f19fd698-1cb4-4438-aaf9-3abab9eb0912"
      },
      "source": [
        "chi2, p, dof, expected = chi2_contingency((pd.crosstab(airline.CustomerType, airline.TypeOfTravel).values))\n",
        "print (f'Chi-square Statistic: {chi2} ,p-value: {p}, Degrees of Freedom: {dof}')"
      ],
      "execution_count": 23,
      "outputs": [
        {
          "output_type": "stream",
          "name": "stdout",
          "text": [
            "Chi-square Statistic: 11908.588319938932 ,p-value: 0.0, Degrees of Freedom: 1\n"
          ]
        }
      ]
    },
    {
      "cell_type": "markdown",
      "source": [
        "Explanation: With a p-value of 0.0 this means that the null hypothesis or H0 can be rejected and the two attributes are statistically significant"
      ],
      "metadata": {
        "id": "ITSl5AFLEcal"
      }
    },
    {
      "cell_type": "markdown",
      "source": [
        "Question 3: Covariance and Correlation.\n",
        "Selected Attributes are FlightDistance, PriceUSD and OnlineBoarding\n",
        "\n",
        "\n"
      ],
      "metadata": {
        "id": "aM9wcO93F3VV"
      }
    },
    {
      "cell_type": "code",
      "metadata": {
        "id": "yqNvuNWJn0Z0",
        "colab": {
          "base_uri": "https://localhost:8080/"
        },
        "outputId": "29a51610-9337-4f30-b2a9-c579d1dee742"
      },
      "source": [
        "# SAMPLE covariance omitting bias=True setting\n",
        "np.cov([airline.FlightDistance],[airline.PriceUSD])[0][1]"
      ],
      "execution_count": 24,
      "outputs": [
        {
          "output_type": "execute_result",
          "data": {
            "text/plain": [
              "1492683.6313198127"
            ]
          },
          "metadata": {},
          "execution_count": 24
        }
      ]
    },
    {
      "cell_type": "code",
      "metadata": {
        "colab": {
          "base_uri": "https://localhost:8080/"
        },
        "outputId": "48afe33f-6160-48fb-ff4f-4d897e202519",
        "id": "THYLqnU_G8VG"
      },
      "source": [
        "# SAMPLE covariance omitting bias=True setting\n",
        "np.cov([airline.PriceUSD],[airline.OnlineBoarding])[0][1]"
      ],
      "execution_count": 27,
      "outputs": [
        {
          "output_type": "execute_result",
          "data": {
            "text/plain": [
              "473.47587005767565"
            ]
          },
          "metadata": {},
          "execution_count": 27
        }
      ]
    },
    {
      "cell_type": "code",
      "metadata": {
        "colab": {
          "base_uri": "https://localhost:8080/"
        },
        "outputId": "4026388e-9857-4974-96ae-6e677912e26e",
        "id": "gRFalyskHSBw"
      },
      "source": [
        "# SAMPLE covariance omitting bias=True setting\n",
        "np.cov([airline.OnlineBoarding],[airline.FlightDistance])[0][1]"
      ],
      "execution_count": 28,
      "outputs": [
        {
          "output_type": "execute_result",
          "data": {
            "text/plain": [
              "290.3366845480671"
            ]
          },
          "metadata": {},
          "execution_count": 28
        }
      ]
    },
    {
      "cell_type": "code",
      "metadata": {
        "id": "erJ8ISQNn0Z3",
        "colab": {
          "base_uri": "https://localhost:8080/"
        },
        "outputId": "3615ed12-f7ca-4d87-d104-edb9d9c753ed"
      },
      "source": [
        "# Correlation\n",
        "corr_edUSD = airline['FlightDistance'].corr(airline['PriceUSD'])\n",
        "corr_edUSD"
      ],
      "execution_count": 29,
      "outputs": [
        {
          "output_type": "execute_result",
          "data": {
            "text/plain": [
              "0.9547378420721715"
            ]
          },
          "metadata": {},
          "execution_count": 29
        }
      ]
    },
    {
      "cell_type": "code",
      "metadata": {
        "colab": {
          "base_uri": "https://localhost:8080/"
        },
        "outputId": "d9639654-2f28-4f9b-9724-6d8a9046b2b8",
        "id": "zxiQknQdHsMG"
      },
      "source": [
        "# Correlation\n",
        "corr_edUSD = airline['PriceUSD'].corr(airline['OnlineBoarding'])\n",
        "corr_edUSD"
      ],
      "execution_count": 30,
      "outputs": [
        {
          "output_type": "execute_result",
          "data": {
            "text/plain": [
              "0.22341734701941263"
            ]
          },
          "metadata": {},
          "execution_count": 30
        }
      ]
    },
    {
      "cell_type": "code",
      "metadata": {
        "colab": {
          "base_uri": "https://localhost:8080/"
        },
        "outputId": "9681d589-bc6d-48a7-9528-e284f90be543",
        "id": "pmcjFZ_dHwsN"
      },
      "source": [
        "# Correlation\n",
        "corr_edUSD = airline['FlightDistance'].corr(airline['OnlineBoarding'])\n",
        "corr_edUSD"
      ],
      "execution_count": 31,
      "outputs": [
        {
          "output_type": "execute_result",
          "data": {
            "text/plain": [
              "0.21550991808830658"
            ]
          },
          "metadata": {},
          "execution_count": 31
        }
      ]
    },
    {
      "cell_type": "code",
      "source": [
        " 1 normalized_airline = airline[['PriceUSD', 'FlightDistance', 'OnlineBoarding', 'SeatComfort']] \n",
        " 2 x = normalized_airline.values \n",
        " 3 min_max_scaler = preprocessing.MinMaxScaler() \n",
        " 4 x_scaled = min_max_scaler.fit_transform(x) \n",
        " 5 normalized_airline = pd.DataFrame(x_scaled) \n",
        " 6 normalized_airline=normalized_airline.rename(columns={0:'PriceUSD',1:'FlightDistance',2:'OnlineBoarding',3:'SeatComfort'})"
      ],
      "metadata": {
        "colab": {
          "base_uri": "https://localhost:8080/",
          "height": 130
        },
        "id": "2yruX2fRILRD",
        "outputId": "0da11e89-10be-4fdf-b66a-543d9e1709a1"
      },
      "execution_count": 34,
      "outputs": [
        {
          "output_type": "error",
          "ename": "SyntaxError",
          "evalue": "ignored",
          "traceback": [
            "\u001b[0;36m  File \u001b[0;32m\"<ipython-input-34-17acd21c1d2a>\"\u001b[0;36m, line \u001b[0;32m1\u001b[0m\n\u001b[0;31m    1normalized_airline = airline[['PriceUSD', 'FlightDistance', 'OnlineBoarding', 'SeatComfort']]\u001b[0m\n\u001b[0m     ^\u001b[0m\n\u001b[0;31mSyntaxError\u001b[0m\u001b[0;31m:\u001b[0m invalid syntax\n"
          ]
        }
      ]
    },
    {
      "cell_type": "code",
      "source": [
        "corr = airline.corr() \n",
        "corr "
      ],
      "metadata": {
        "colab": {
          "base_uri": "https://localhost:8080/",
          "height": 664
        },
        "id": "U51kzEi2Ihn7",
        "outputId": "c3ad9500-0c14-4c95-84f0-45c0cdfb7c19"
      },
      "execution_count": 35,
      "outputs": [
        {
          "output_type": "execute_result",
          "data": {
            "text/plain": [
              "                              ID       Age  FlightDistance  DepartureDelay  \\\n",
              "ID                      1.000000  0.021235        0.085331       -0.010855   \n",
              "Age                     0.021235  1.000000        0.099772       -0.009300   \n",
              "FlightDistance          0.085331  0.099772        1.000000        0.003566   \n",
              "DepartureDelay         -0.010855 -0.009300        0.003566        1.000000   \n",
              "ArrivalDelay           -0.030212 -0.011187       -0.000547        0.965367   \n",
              "EaseOfOnlineBooking     0.013451  0.022202        0.065925       -0.004549   \n",
              "Check-inService         0.081642  0.032150        0.072842       -0.017898   \n",
              "OnlineBoarding          0.055943  0.206672        0.215510       -0.018290   \n",
              "On-boardService         0.057362  0.057004        0.111520       -0.030700   \n",
              "SeatComfort             0.054199  0.158386        0.156995       -0.027155   \n",
              "LegRoom                 0.043938  0.039411        0.134080        0.014818   \n",
              "Cleanliness             0.025352  0.051818        0.094741       -0.014007   \n",
              "FoodAndDrink           -0.000269  0.023360        0.056957       -0.029587   \n",
              "In-flightWifi          -0.023177  0.015794        0.006692       -0.015880   \n",
              "In-flightEntertainment  0.002497  0.074548        0.131042       -0.027623   \n",
              "BaggageHandling         0.075873 -0.048266        0.064348       -0.004157   \n",
              "PriceUSD                0.081999  0.105367        0.954738        0.003105   \n",
              "\n",
              "                        ArrivalDelay  EaseOfOnlineBooking  Check-inService  \\\n",
              "ID                         -0.030212             0.013451         0.081642   \n",
              "Age                        -0.011187             0.022202         0.032150   \n",
              "FlightDistance             -0.000547             0.065925         0.072842   \n",
              "DepartureDelay              0.965367            -0.004549        -0.017898   \n",
              "ArrivalDelay                1.000000            -0.006252        -0.020966   \n",
              "EaseOfOnlineBooking        -0.006252             1.000000         0.007757   \n",
              "Check-inService            -0.020966             0.007757         1.000000   \n",
              "OnlineBoarding             -0.021662             0.405063         0.200711   \n",
              "On-boardService            -0.034914             0.038627         0.243894   \n",
              "SeatComfort                -0.029875             0.028639         0.187343   \n",
              "LegRoom                     0.011836             0.108742         0.151413   \n",
              "Cleanliness                -0.015974             0.015475         0.174599   \n",
              "FoodAndDrink               -0.032066             0.030365         0.083863   \n",
              "In-flightWifi              -0.017586             0.713698         0.042650   \n",
              "In-flightEntertainment     -0.030635             0.047043         0.118485   \n",
              "BaggageHandling            -0.007769             0.038777         0.233842   \n",
              "PriceUSD                   -0.000667             0.066556         0.079115   \n",
              "\n",
              "                        OnlineBoarding  On-boardService  SeatComfort  \\\n",
              "ID                            0.055943         0.057362     0.054199   \n",
              "Age                           0.206672         0.057004     0.158386   \n",
              "FlightDistance                0.215510         0.111520     0.156995   \n",
              "DepartureDelay               -0.018290        -0.030700    -0.027155   \n",
              "ArrivalDelay                 -0.021662        -0.034914    -0.029875   \n",
              "EaseOfOnlineBooking           0.405063         0.038627     0.028639   \n",
              "Check-inService               0.200711         0.243894     0.187343   \n",
              "OnlineBoarding                1.000000         0.152396     0.417810   \n",
              "On-boardService               0.152396         1.000000     0.129141   \n",
              "SeatComfort                   0.417810         0.129141     1.000000   \n",
              "LegRoom                       0.120988         0.357457     0.102399   \n",
              "Cleanliness                   0.328538         0.120432     0.678465   \n",
              "FoodAndDrink                  0.233886         0.056892     0.576140   \n",
              "In-flightWifi                 0.457595         0.119856     0.122011   \n",
              "In-flightEntertainment        0.283565         0.418333     0.611609   \n",
              "BaggageHandling               0.081288         0.519462     0.072906   \n",
              "PriceUSD                      0.223417         0.120269     0.164278   \n",
              "\n",
              "                         LegRoom  Cleanliness  FoodAndDrink  In-flightWifi  \\\n",
              "ID                      0.043938     0.025352     -0.000269      -0.023177   \n",
              "Age                     0.039411     0.051818      0.023360       0.015794   \n",
              "FlightDistance          0.134080     0.094741      0.056957       0.006692   \n",
              "DepartureDelay          0.014818    -0.014007     -0.029587      -0.015880   \n",
              "ArrivalDelay            0.011836    -0.015974     -0.032066      -0.017586   \n",
              "EaseOfOnlineBooking     0.108742     0.015475      0.030365       0.713698   \n",
              "Check-inService         0.151413     0.174599      0.083863       0.042650   \n",
              "OnlineBoarding          0.120988     0.328538      0.233886       0.457595   \n",
              "On-boardService         0.357457     0.120432      0.056892       0.119856   \n",
              "SeatComfort             0.102399     0.678465      0.576140       0.122011   \n",
              "LegRoom                 1.000000     0.094888      0.032409       0.160064   \n",
              "Cleanliness             0.094888     1.000000      0.658344       0.131950   \n",
              "FoodAndDrink            0.032409     0.658344      1.000000       0.132712   \n",
              "In-flightWifi           0.160064     0.131950      0.132712       1.000000   \n",
              "In-flightEntertainment  0.299524     0.692022      0.623902       0.209331   \n",
              "BaggageHandling         0.370404     0.094951      0.034221       0.119845   \n",
              "PriceUSD                0.141361     0.098934      0.060748       0.008822   \n",
              "\n",
              "                        In-flightEntertainment  BaggageHandling  PriceUSD  \n",
              "ID                                    0.002497         0.075873  0.081999  \n",
              "Age                                   0.074548        -0.048266  0.105367  \n",
              "FlightDistance                        0.131042         0.064348  0.954738  \n",
              "DepartureDelay                       -0.027623        -0.004157  0.003105  \n",
              "ArrivalDelay                         -0.030635        -0.007769 -0.000667  \n",
              "EaseOfOnlineBooking                   0.047043         0.038777  0.066556  \n",
              "Check-inService                       0.118485         0.233842  0.079115  \n",
              "OnlineBoarding                        0.283565         0.081288  0.223417  \n",
              "On-boardService                       0.418333         0.519462  0.120269  \n",
              "SeatComfort                           0.611609         0.072906  0.164278  \n",
              "LegRoom                               0.299524         0.370404  0.141361  \n",
              "Cleanliness                           0.692022         0.094951  0.098934  \n",
              "FoodAndDrink                          0.623902         0.034221  0.060748  \n",
              "In-flightWifi                         0.209331         0.119845  0.008822  \n",
              "In-flightEntertainment                1.000000         0.377786  0.138725  \n",
              "BaggageHandling                       0.377786         1.000000  0.072512  \n",
              "PriceUSD                              0.138725         0.072512  1.000000  "
            ],
            "text/html": [
              "\n",
              "  <div id=\"df-cf9dd5f5-a350-4936-bd5a-287741f6899a\">\n",
              "    <div class=\"colab-df-container\">\n",
              "      <div>\n",
              "<style scoped>\n",
              "    .dataframe tbody tr th:only-of-type {\n",
              "        vertical-align: middle;\n",
              "    }\n",
              "\n",
              "    .dataframe tbody tr th {\n",
              "        vertical-align: top;\n",
              "    }\n",
              "\n",
              "    .dataframe thead th {\n",
              "        text-align: right;\n",
              "    }\n",
              "</style>\n",
              "<table border=\"1\" class=\"dataframe\">\n",
              "  <thead>\n",
              "    <tr style=\"text-align: right;\">\n",
              "      <th></th>\n",
              "      <th>ID</th>\n",
              "      <th>Age</th>\n",
              "      <th>FlightDistance</th>\n",
              "      <th>DepartureDelay</th>\n",
              "      <th>ArrivalDelay</th>\n",
              "      <th>EaseOfOnlineBooking</th>\n",
              "      <th>Check-inService</th>\n",
              "      <th>OnlineBoarding</th>\n",
              "      <th>On-boardService</th>\n",
              "      <th>SeatComfort</th>\n",
              "      <th>LegRoom</th>\n",
              "      <th>Cleanliness</th>\n",
              "      <th>FoodAndDrink</th>\n",
              "      <th>In-flightWifi</th>\n",
              "      <th>In-flightEntertainment</th>\n",
              "      <th>BaggageHandling</th>\n",
              "      <th>PriceUSD</th>\n",
              "    </tr>\n",
              "  </thead>\n",
              "  <tbody>\n",
              "    <tr>\n",
              "      <th>ID</th>\n",
              "      <td>1.000000</td>\n",
              "      <td>0.021235</td>\n",
              "      <td>0.085331</td>\n",
              "      <td>-0.010855</td>\n",
              "      <td>-0.030212</td>\n",
              "      <td>0.013451</td>\n",
              "      <td>0.081642</td>\n",
              "      <td>0.055943</td>\n",
              "      <td>0.057362</td>\n",
              "      <td>0.054199</td>\n",
              "      <td>0.043938</td>\n",
              "      <td>0.025352</td>\n",
              "      <td>-0.000269</td>\n",
              "      <td>-0.023177</td>\n",
              "      <td>0.002497</td>\n",
              "      <td>0.075873</td>\n",
              "      <td>0.081999</td>\n",
              "    </tr>\n",
              "    <tr>\n",
              "      <th>Age</th>\n",
              "      <td>0.021235</td>\n",
              "      <td>1.000000</td>\n",
              "      <td>0.099772</td>\n",
              "      <td>-0.009300</td>\n",
              "      <td>-0.011187</td>\n",
              "      <td>0.022202</td>\n",
              "      <td>0.032150</td>\n",
              "      <td>0.206672</td>\n",
              "      <td>0.057004</td>\n",
              "      <td>0.158386</td>\n",
              "      <td>0.039411</td>\n",
              "      <td>0.051818</td>\n",
              "      <td>0.023360</td>\n",
              "      <td>0.015794</td>\n",
              "      <td>0.074548</td>\n",
              "      <td>-0.048266</td>\n",
              "      <td>0.105367</td>\n",
              "    </tr>\n",
              "    <tr>\n",
              "      <th>FlightDistance</th>\n",
              "      <td>0.085331</td>\n",
              "      <td>0.099772</td>\n",
              "      <td>1.000000</td>\n",
              "      <td>0.003566</td>\n",
              "      <td>-0.000547</td>\n",
              "      <td>0.065925</td>\n",
              "      <td>0.072842</td>\n",
              "      <td>0.215510</td>\n",
              "      <td>0.111520</td>\n",
              "      <td>0.156995</td>\n",
              "      <td>0.134080</td>\n",
              "      <td>0.094741</td>\n",
              "      <td>0.056957</td>\n",
              "      <td>0.006692</td>\n",
              "      <td>0.131042</td>\n",
              "      <td>0.064348</td>\n",
              "      <td>0.954738</td>\n",
              "    </tr>\n",
              "    <tr>\n",
              "      <th>DepartureDelay</th>\n",
              "      <td>-0.010855</td>\n",
              "      <td>-0.009300</td>\n",
              "      <td>0.003566</td>\n",
              "      <td>1.000000</td>\n",
              "      <td>0.965367</td>\n",
              "      <td>-0.004549</td>\n",
              "      <td>-0.017898</td>\n",
              "      <td>-0.018290</td>\n",
              "      <td>-0.030700</td>\n",
              "      <td>-0.027155</td>\n",
              "      <td>0.014818</td>\n",
              "      <td>-0.014007</td>\n",
              "      <td>-0.029587</td>\n",
              "      <td>-0.015880</td>\n",
              "      <td>-0.027623</td>\n",
              "      <td>-0.004157</td>\n",
              "      <td>0.003105</td>\n",
              "    </tr>\n",
              "    <tr>\n",
              "      <th>ArrivalDelay</th>\n",
              "      <td>-0.030212</td>\n",
              "      <td>-0.011187</td>\n",
              "      <td>-0.000547</td>\n",
              "      <td>0.965367</td>\n",
              "      <td>1.000000</td>\n",
              "      <td>-0.006252</td>\n",
              "      <td>-0.020966</td>\n",
              "      <td>-0.021662</td>\n",
              "      <td>-0.034914</td>\n",
              "      <td>-0.029875</td>\n",
              "      <td>0.011836</td>\n",
              "      <td>-0.015974</td>\n",
              "      <td>-0.032066</td>\n",
              "      <td>-0.017586</td>\n",
              "      <td>-0.030635</td>\n",
              "      <td>-0.007769</td>\n",
              "      <td>-0.000667</td>\n",
              "    </tr>\n",
              "    <tr>\n",
              "      <th>EaseOfOnlineBooking</th>\n",
              "      <td>0.013451</td>\n",
              "      <td>0.022202</td>\n",
              "      <td>0.065925</td>\n",
              "      <td>-0.004549</td>\n",
              "      <td>-0.006252</td>\n",
              "      <td>1.000000</td>\n",
              "      <td>0.007757</td>\n",
              "      <td>0.405063</td>\n",
              "      <td>0.038627</td>\n",
              "      <td>0.028639</td>\n",
              "      <td>0.108742</td>\n",
              "      <td>0.015475</td>\n",
              "      <td>0.030365</td>\n",
              "      <td>0.713698</td>\n",
              "      <td>0.047043</td>\n",
              "      <td>0.038777</td>\n",
              "      <td>0.066556</td>\n",
              "    </tr>\n",
              "    <tr>\n",
              "      <th>Check-inService</th>\n",
              "      <td>0.081642</td>\n",
              "      <td>0.032150</td>\n",
              "      <td>0.072842</td>\n",
              "      <td>-0.017898</td>\n",
              "      <td>-0.020966</td>\n",
              "      <td>0.007757</td>\n",
              "      <td>1.000000</td>\n",
              "      <td>0.200711</td>\n",
              "      <td>0.243894</td>\n",
              "      <td>0.187343</td>\n",
              "      <td>0.151413</td>\n",
              "      <td>0.174599</td>\n",
              "      <td>0.083863</td>\n",
              "      <td>0.042650</td>\n",
              "      <td>0.118485</td>\n",
              "      <td>0.233842</td>\n",
              "      <td>0.079115</td>\n",
              "    </tr>\n",
              "    <tr>\n",
              "      <th>OnlineBoarding</th>\n",
              "      <td>0.055943</td>\n",
              "      <td>0.206672</td>\n",
              "      <td>0.215510</td>\n",
              "      <td>-0.018290</td>\n",
              "      <td>-0.021662</td>\n",
              "      <td>0.405063</td>\n",
              "      <td>0.200711</td>\n",
              "      <td>1.000000</td>\n",
              "      <td>0.152396</td>\n",
              "      <td>0.417810</td>\n",
              "      <td>0.120988</td>\n",
              "      <td>0.328538</td>\n",
              "      <td>0.233886</td>\n",
              "      <td>0.457595</td>\n",
              "      <td>0.283565</td>\n",
              "      <td>0.081288</td>\n",
              "      <td>0.223417</td>\n",
              "    </tr>\n",
              "    <tr>\n",
              "      <th>On-boardService</th>\n",
              "      <td>0.057362</td>\n",
              "      <td>0.057004</td>\n",
              "      <td>0.111520</td>\n",
              "      <td>-0.030700</td>\n",
              "      <td>-0.034914</td>\n",
              "      <td>0.038627</td>\n",
              "      <td>0.243894</td>\n",
              "      <td>0.152396</td>\n",
              "      <td>1.000000</td>\n",
              "      <td>0.129141</td>\n",
              "      <td>0.357457</td>\n",
              "      <td>0.120432</td>\n",
              "      <td>0.056892</td>\n",
              "      <td>0.119856</td>\n",
              "      <td>0.418333</td>\n",
              "      <td>0.519462</td>\n",
              "      <td>0.120269</td>\n",
              "    </tr>\n",
              "    <tr>\n",
              "      <th>SeatComfort</th>\n",
              "      <td>0.054199</td>\n",
              "      <td>0.158386</td>\n",
              "      <td>0.156995</td>\n",
              "      <td>-0.027155</td>\n",
              "      <td>-0.029875</td>\n",
              "      <td>0.028639</td>\n",
              "      <td>0.187343</td>\n",
              "      <td>0.417810</td>\n",
              "      <td>0.129141</td>\n",
              "      <td>1.000000</td>\n",
              "      <td>0.102399</td>\n",
              "      <td>0.678465</td>\n",
              "      <td>0.576140</td>\n",
              "      <td>0.122011</td>\n",
              "      <td>0.611609</td>\n",
              "      <td>0.072906</td>\n",
              "      <td>0.164278</td>\n",
              "    </tr>\n",
              "    <tr>\n",
              "      <th>LegRoom</th>\n",
              "      <td>0.043938</td>\n",
              "      <td>0.039411</td>\n",
              "      <td>0.134080</td>\n",
              "      <td>0.014818</td>\n",
              "      <td>0.011836</td>\n",
              "      <td>0.108742</td>\n",
              "      <td>0.151413</td>\n",
              "      <td>0.120988</td>\n",
              "      <td>0.357457</td>\n",
              "      <td>0.102399</td>\n",
              "      <td>1.000000</td>\n",
              "      <td>0.094888</td>\n",
              "      <td>0.032409</td>\n",
              "      <td>0.160064</td>\n",
              "      <td>0.299524</td>\n",
              "      <td>0.370404</td>\n",
              "      <td>0.141361</td>\n",
              "    </tr>\n",
              "    <tr>\n",
              "      <th>Cleanliness</th>\n",
              "      <td>0.025352</td>\n",
              "      <td>0.051818</td>\n",
              "      <td>0.094741</td>\n",
              "      <td>-0.014007</td>\n",
              "      <td>-0.015974</td>\n",
              "      <td>0.015475</td>\n",
              "      <td>0.174599</td>\n",
              "      <td>0.328538</td>\n",
              "      <td>0.120432</td>\n",
              "      <td>0.678465</td>\n",
              "      <td>0.094888</td>\n",
              "      <td>1.000000</td>\n",
              "      <td>0.658344</td>\n",
              "      <td>0.131950</td>\n",
              "      <td>0.692022</td>\n",
              "      <td>0.094951</td>\n",
              "      <td>0.098934</td>\n",
              "    </tr>\n",
              "    <tr>\n",
              "      <th>FoodAndDrink</th>\n",
              "      <td>-0.000269</td>\n",
              "      <td>0.023360</td>\n",
              "      <td>0.056957</td>\n",
              "      <td>-0.029587</td>\n",
              "      <td>-0.032066</td>\n",
              "      <td>0.030365</td>\n",
              "      <td>0.083863</td>\n",
              "      <td>0.233886</td>\n",
              "      <td>0.056892</td>\n",
              "      <td>0.576140</td>\n",
              "      <td>0.032409</td>\n",
              "      <td>0.658344</td>\n",
              "      <td>1.000000</td>\n",
              "      <td>0.132712</td>\n",
              "      <td>0.623902</td>\n",
              "      <td>0.034221</td>\n",
              "      <td>0.060748</td>\n",
              "    </tr>\n",
              "    <tr>\n",
              "      <th>In-flightWifi</th>\n",
              "      <td>-0.023177</td>\n",
              "      <td>0.015794</td>\n",
              "      <td>0.006692</td>\n",
              "      <td>-0.015880</td>\n",
              "      <td>-0.017586</td>\n",
              "      <td>0.713698</td>\n",
              "      <td>0.042650</td>\n",
              "      <td>0.457595</td>\n",
              "      <td>0.119856</td>\n",
              "      <td>0.122011</td>\n",
              "      <td>0.160064</td>\n",
              "      <td>0.131950</td>\n",
              "      <td>0.132712</td>\n",
              "      <td>1.000000</td>\n",
              "      <td>0.209331</td>\n",
              "      <td>0.119845</td>\n",
              "      <td>0.008822</td>\n",
              "    </tr>\n",
              "    <tr>\n",
              "      <th>In-flightEntertainment</th>\n",
              "      <td>0.002497</td>\n",
              "      <td>0.074548</td>\n",
              "      <td>0.131042</td>\n",
              "      <td>-0.027623</td>\n",
              "      <td>-0.030635</td>\n",
              "      <td>0.047043</td>\n",
              "      <td>0.118485</td>\n",
              "      <td>0.283565</td>\n",
              "      <td>0.418333</td>\n",
              "      <td>0.611609</td>\n",
              "      <td>0.299524</td>\n",
              "      <td>0.692022</td>\n",
              "      <td>0.623902</td>\n",
              "      <td>0.209331</td>\n",
              "      <td>1.000000</td>\n",
              "      <td>0.377786</td>\n",
              "      <td>0.138725</td>\n",
              "    </tr>\n",
              "    <tr>\n",
              "      <th>BaggageHandling</th>\n",
              "      <td>0.075873</td>\n",
              "      <td>-0.048266</td>\n",
              "      <td>0.064348</td>\n",
              "      <td>-0.004157</td>\n",
              "      <td>-0.007769</td>\n",
              "      <td>0.038777</td>\n",
              "      <td>0.233842</td>\n",
              "      <td>0.081288</td>\n",
              "      <td>0.519462</td>\n",
              "      <td>0.072906</td>\n",
              "      <td>0.370404</td>\n",
              "      <td>0.094951</td>\n",
              "      <td>0.034221</td>\n",
              "      <td>0.119845</td>\n",
              "      <td>0.377786</td>\n",
              "      <td>1.000000</td>\n",
              "      <td>0.072512</td>\n",
              "    </tr>\n",
              "    <tr>\n",
              "      <th>PriceUSD</th>\n",
              "      <td>0.081999</td>\n",
              "      <td>0.105367</td>\n",
              "      <td>0.954738</td>\n",
              "      <td>0.003105</td>\n",
              "      <td>-0.000667</td>\n",
              "      <td>0.066556</td>\n",
              "      <td>0.079115</td>\n",
              "      <td>0.223417</td>\n",
              "      <td>0.120269</td>\n",
              "      <td>0.164278</td>\n",
              "      <td>0.141361</td>\n",
              "      <td>0.098934</td>\n",
              "      <td>0.060748</td>\n",
              "      <td>0.008822</td>\n",
              "      <td>0.138725</td>\n",
              "      <td>0.072512</td>\n",
              "      <td>1.000000</td>\n",
              "    </tr>\n",
              "  </tbody>\n",
              "</table>\n",
              "</div>\n",
              "      <button class=\"colab-df-convert\" onclick=\"convertToInteractive('df-cf9dd5f5-a350-4936-bd5a-287741f6899a')\"\n",
              "              title=\"Convert this dataframe to an interactive table.\"\n",
              "              style=\"display:none;\">\n",
              "        \n",
              "  <svg xmlns=\"http://www.w3.org/2000/svg\" height=\"24px\"viewBox=\"0 0 24 24\"\n",
              "       width=\"24px\">\n",
              "    <path d=\"M0 0h24v24H0V0z\" fill=\"none\"/>\n",
              "    <path d=\"M18.56 5.44l.94 2.06.94-2.06 2.06-.94-2.06-.94-.94-2.06-.94 2.06-2.06.94zm-11 1L8.5 8.5l.94-2.06 2.06-.94-2.06-.94L8.5 2.5l-.94 2.06-2.06.94zm10 10l.94 2.06.94-2.06 2.06-.94-2.06-.94-.94-2.06-.94 2.06-2.06.94z\"/><path d=\"M17.41 7.96l-1.37-1.37c-.4-.4-.92-.59-1.43-.59-.52 0-1.04.2-1.43.59L10.3 9.45l-7.72 7.72c-.78.78-.78 2.05 0 2.83L4 21.41c.39.39.9.59 1.41.59.51 0 1.02-.2 1.41-.59l7.78-7.78 2.81-2.81c.8-.78.8-2.07 0-2.86zM5.41 20L4 18.59l7.72-7.72 1.47 1.35L5.41 20z\"/>\n",
              "  </svg>\n",
              "      </button>\n",
              "      \n",
              "  <style>\n",
              "    .colab-df-container {\n",
              "      display:flex;\n",
              "      flex-wrap:wrap;\n",
              "      gap: 12px;\n",
              "    }\n",
              "\n",
              "    .colab-df-convert {\n",
              "      background-color: #E8F0FE;\n",
              "      border: none;\n",
              "      border-radius: 50%;\n",
              "      cursor: pointer;\n",
              "      display: none;\n",
              "      fill: #1967D2;\n",
              "      height: 32px;\n",
              "      padding: 0 0 0 0;\n",
              "      width: 32px;\n",
              "    }\n",
              "\n",
              "    .colab-df-convert:hover {\n",
              "      background-color: #E2EBFA;\n",
              "      box-shadow: 0px 1px 2px rgba(60, 64, 67, 0.3), 0px 1px 3px 1px rgba(60, 64, 67, 0.15);\n",
              "      fill: #174EA6;\n",
              "    }\n",
              "\n",
              "    [theme=dark] .colab-df-convert {\n",
              "      background-color: #3B4455;\n",
              "      fill: #D2E3FC;\n",
              "    }\n",
              "\n",
              "    [theme=dark] .colab-df-convert:hover {\n",
              "      background-color: #434B5C;\n",
              "      box-shadow: 0px 1px 3px 1px rgba(0, 0, 0, 0.15);\n",
              "      filter: drop-shadow(0px 1px 2px rgba(0, 0, 0, 0.3));\n",
              "      fill: #FFFFFF;\n",
              "    }\n",
              "  </style>\n",
              "\n",
              "      <script>\n",
              "        const buttonEl =\n",
              "          document.querySelector('#df-cf9dd5f5-a350-4936-bd5a-287741f6899a button.colab-df-convert');\n",
              "        buttonEl.style.display =\n",
              "          google.colab.kernel.accessAllowed ? 'block' : 'none';\n",
              "\n",
              "        async function convertToInteractive(key) {\n",
              "          const element = document.querySelector('#df-cf9dd5f5-a350-4936-bd5a-287741f6899a');\n",
              "          const dataTable =\n",
              "            await google.colab.kernel.invokeFunction('convertToInteractive',\n",
              "                                                     [key], {});\n",
              "          if (!dataTable) return;\n",
              "\n",
              "          const docLinkHtml = 'Like what you see? Visit the ' +\n",
              "            '<a target=\"_blank\" href=https://colab.research.google.com/notebooks/data_table.ipynb>data table notebook</a>'\n",
              "            + ' to learn more about interactive tables.';\n",
              "          element.innerHTML = '';\n",
              "          dataTable['output_type'] = 'display_data';\n",
              "          await google.colab.output.renderOutput(dataTable, element);\n",
              "          const docLink = document.createElement('div');\n",
              "          docLink.innerHTML = docLinkHtml;\n",
              "          element.appendChild(docLink);\n",
              "        }\n",
              "      </script>\n",
              "    </div>\n",
              "  </div>\n",
              "  "
            ]
          },
          "metadata": {},
          "execution_count": 35
        }
      ]
    }
  ]
}